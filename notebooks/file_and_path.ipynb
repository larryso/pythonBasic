{
 "cells": [
  {
   "cell_type": "markdown",
   "id": "c3369624",
   "metadata": {},
   "source": [
    "# understanding sys.path in Python\n",
    "\n",
    "sys.path is a list of strings that specifies the search path for modules. It’s initialized from the environment variable PYTHONPATH , plus an installation-dependent default. As you can see, sys.path is quite flexible and can be used in a number of different ways.\n"
   ]
  },
  {
   "cell_type": "code",
   "execution_count": 1,
   "id": "c7223681",
   "metadata": {},
   "outputs": [
    {
     "name": "stdout",
     "output_type": "stream",
     "text": [
      "['C:\\\\Larry\\\\study\\\\python\\\\workspace\\\\pythonBasic\\\\notebooks', 'C:\\\\Program Files\\\\Python3.10.2\\\\python310.zip', 'C:\\\\Program Files\\\\Python3.10.2\\\\DLLs', 'C:\\\\Program Files\\\\Python3.10.2\\\\lib', 'C:\\\\Program Files\\\\Python3.10.2', 'C:\\\\Larry\\\\study\\\\python\\\\workspace\\\\pythonBasic\\\\venv', '', 'C:\\\\Larry\\\\study\\\\python\\\\workspace\\\\pythonBasic\\\\venv\\\\lib\\\\site-packages', 'C:\\\\Larry\\\\study\\\\python\\\\workspace\\\\pythonBasic\\\\venv\\\\lib\\\\site-packages\\\\win32', 'C:\\\\Larry\\\\study\\\\python\\\\workspace\\\\pythonBasic\\\\venv\\\\lib\\\\site-packages\\\\win32\\\\lib', 'C:\\\\Larry\\\\study\\\\python\\\\workspace\\\\pythonBasic\\\\venv\\\\lib\\\\site-packages\\\\Pythonwin']\n"
     ]
    }
   ],
   "source": [
    "import sys\n",
    "print(sys.path)"
   ]
  },
  {
   "cell_type": "markdown",
   "id": "0b74ec54",
   "metadata": {},
   "source": [
    "1. One common use case for sys.path is to extend it when you’re working on a project that uses a custom library.\n",
    "\n",
    "import sys\n",
    "sys.path.append('/path/to/MyLib')\n",
    "\n",
    "2. You can also insert a path at a specific position in sys.path by using the insert() function:\n",
    "\n",
    "import sys\n",
    "sys.path.insert(-1, ‘/path/to/module’)\n",
    "\n",
    "The 0 in the insert() function indicates that the path should be inserted at the beginning of sys.path . You can also use a negative index to insert a path at the end of sys.path :\n",
    "import sys\n",
    "sys.path.insert(-1, ‘/path/to/module’)\n"
   ]
  },
  {
   "cell_type": "code",
   "execution_count": 6,
   "id": "f78e9cab",
   "metadata": {},
   "outputs": [
    {
     "name": "stdout",
     "output_type": "stream",
     "text": [
      "C:\\Larry\\study\\python\\workspace\\pythonBasic\\notebooks\n"
     ]
    }
   ],
   "source": [
    "import sys\n",
    "import os\n",
    "sys.path.append('/path/to/MyLib')\n",
    "sys.path.append('..') ## above path\n",
    "sys.path.append(os.getcwd()) ## current path\n",
    "\n",
    "print(os.getcwd())"
   ]
  },
  {
   "cell_type": "code",
   "execution_count": null,
   "id": "cd819209",
   "metadata": {},
   "outputs": [],
   "source": []
  }
 ],
 "metadata": {
  "kernelspec": {
   "display_name": "Python 3 (ipykernel)",
   "language": "python",
   "name": "python3"
  },
  "language_info": {
   "codemirror_mode": {
    "name": "ipython",
    "version": 3
   },
   "file_extension": ".py",
   "mimetype": "text/x-python",
   "name": "python",
   "nbconvert_exporter": "python",
   "pygments_lexer": "ipython3",
   "version": "3.10.2"
  }
 },
 "nbformat": 4,
 "nbformat_minor": 5
}
