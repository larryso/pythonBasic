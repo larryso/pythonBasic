{
 "cells": [
  {
   "cell_type": "markdown",
   "id": "1e862724",
   "metadata": {},
   "source": [
    "# Python Generators\n",
    "\n",
    "Generator functions allow you to declare a function that behaves like an iterator, i.e. it can be used in a for loop."
   ]
  },
  {
   "cell_type": "markdown",
   "id": "5b6c8c06",
   "metadata": {},
   "source": [
    "## Simplified Code\n",
    "\n",
    "The simplification of code is a result of generator function and generator expression support provided by Python."
   ]
  },
  {
   "cell_type": "code",
   "execution_count": 1,
   "id": "f58b786d",
   "metadata": {},
   "outputs": [],
   "source": [
    "def first_n(n):\n",
    "    num, nums = 0, []\n",
    "    while num < n:\n",
    "        nums.append(num)\n",
    "        num += 1\n",
    "    return nums\n"
   ]
  },
  {
   "cell_type": "code",
   "execution_count": 3,
   "id": "b42dd688",
   "metadata": {},
   "outputs": [
    {
     "name": "stdout",
     "output_type": "stream",
     "text": [
      "45\n"
     ]
    }
   ],
   "source": [
    "sum_first_n = sum(first_n(10))\n",
    "print(sum_first_n)"
   ]
  },
  {
   "cell_type": "markdown",
   "id": "706c1d3c",
   "metadata": {},
   "source": [
    "The code is quite simple and straightforward, but it builds the full list in memory. This is clearly not acceptable in our case, because we cannot afford to keep all n \"10 megabyte\" integers in memory.\n",
    "\n",
    "So, we resort to the generator pattern. The following implements generator as an iterable object."
   ]
  },
  {
   "cell_type": "code",
   "execution_count": 8,
   "id": "1bf354b4",
   "metadata": {},
   "outputs": [],
   "source": [
    "class first_n(object):\n",
    "    \n",
    "    def __init__(self, n):\n",
    "        self.n = n\n",
    "        self.num = 0\n",
    "        \n",
    "    def __iter__(self):\n",
    "        return self\n",
    "    \n",
    "    def __next__(self):\n",
    "        return self.next()\n",
    "    \n",
    "    def next(self):\n",
    "        if self.num < self.n:\n",
    "            cur, self.num = self.num, self.num +1\n",
    "            return cur\n",
    "        raise StopIteration()\n",
    "        "
   ]
  },
  {
   "cell_type": "code",
   "execution_count": 10,
   "id": "88c8333b",
   "metadata": {},
   "outputs": [
    {
     "name": "stdout",
     "output_type": "stream",
     "text": [
      "66\n"
     ]
    }
   ],
   "source": [
    "sum_first_n = sum(first_n(12))\n",
    "print(sum_first_n)"
   ]
  },
  {
   "cell_type": "markdown",
   "id": "9d40f15f",
   "metadata": {},
   "source": [
    "This will perform as we expect, but we have the following issues:\n",
    "\n",
    "there is a lot of boilerplate\n",
    "the logic has to be expressed in a somewhat convoluted way\n",
    "Furthermore, this is a pattern that we will use over and over for many similar constructs. Imagine writing all that just to get an iterator.\n",
    "\n",
    "Python provides generator functions as a convenient shortcut to building iterators. Lets us rewrite the above iterator as a generator function:"
   ]
  },
  {
   "cell_type": "code",
   "execution_count": 21,
   "id": "f24076a6",
   "metadata": {},
   "outputs": [
    {
     "name": "stdout",
     "output_type": "stream",
     "text": [
      "78\n"
     ]
    }
   ],
   "source": [
    "def first_n(n):\n",
    "    num = 0\n",
    "    while num < n:\n",
    "        yield num\n",
    "        num +=1 \n",
    "        \n",
    "sum_first_n = sum(first_n(13))\n",
    "print(sum_first_n)"
   ]
  },
  {
   "cell_type": "markdown",
   "id": "53a9da0e",
   "metadata": {},
   "source": [
    "### range() and xrange()\n",
    "Both range and xrange represent a range of numbers, and have the same function signature, but range returns a list while xrange returns a generator (at least in concept; the implementation may differ)."
   ]
  },
  {
   "cell_type": "code",
   "execution_count": 19,
   "id": "528d5a2b",
   "metadata": {},
   "outputs": [
    {
     "name": "stdout",
     "output_type": "stream",
     "text": [
      "499999500000\n"
     ]
    }
   ],
   "source": [
    "sum_of_first_n = sum(range(1000000))\n",
    "\n",
    "print(sum_of_first_n)"
   ]
  },
  {
   "cell_type": "code",
   "execution_count": 26,
   "id": "8570065c",
   "metadata": {},
   "outputs": [
    {
     "name": "stdout",
     "output_type": "stream",
     "text": [
      "0\n",
      "1\n",
      "2\n",
      "3\n",
      "4\n"
     ]
    }
   ],
   "source": [
    "#r = xrange(100) ## only work under python 2.X, after Python 3.X only use range()\n",
    "\n",
    "r = range(100)\n",
    "\n",
    "for i in range(5):\n",
    "    print(i)"
   ]
  },
  {
   "cell_type": "code",
   "execution_count": null,
   "id": "0fe67494",
   "metadata": {},
   "outputs": [],
   "source": []
  }
 ],
 "metadata": {
  "kernelspec": {
   "display_name": "Python 3 (ipykernel)",
   "language": "python",
   "name": "python3"
  },
  "language_info": {
   "codemirror_mode": {
    "name": "ipython",
    "version": 3
   },
   "file_extension": ".py",
   "mimetype": "text/x-python",
   "name": "python",
   "nbconvert_exporter": "python",
   "pygments_lexer": "ipython3",
   "version": "3.10.2"
  }
 },
 "nbformat": 4,
 "nbformat_minor": 5
}
