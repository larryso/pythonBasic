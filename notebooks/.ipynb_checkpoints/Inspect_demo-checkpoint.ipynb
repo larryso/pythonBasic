{
 "cells": [
  {
   "cell_type": "markdown",
   "id": "b57784fc",
   "metadata": {},
   "source": [
    "# inspect — Inspect live objects"
   ]
  },
  {
   "cell_type": "markdown",
   "id": "85ac15b2",
   "metadata": {},
   "source": [
    "The inspect module provides several useful functions to help get information about live objects such as modules, classes, methods, functions, tracebacks, frame objects, and code objects. For example, it can help you examine the contents of a class, retrieve the source code of a method, extract and format the argument list for a function, or get all the information you need to display a detailed traceback.\n",
    "\n",
    "There are four main kinds of services provided by this module: type checking, getting source code, inspecting classes and functions, and examining the interpreter stack"
   ]
  },
  {
   "cell_type": "markdown",
   "id": "0138a635",
   "metadata": {},
   "source": [
    "## 7 usefull application of inspect module"
   ]
  },
  {
   "cell_type": "markdown",
   "id": "b1bf9fa4",
   "metadata": {},
   "source": [
    "### 1. Examing content of an Object \n",
    "\n",
    "* get members"
   ]
  },
  {
   "cell_type": "code",
   "execution_count": 1,
   "id": "b4af4020",
   "metadata": {},
   "outputs": [
    {
     "data": {
      "text/plain": [
       "[('__attrs__',\n",
       "  ['_content',\n",
       "   'status_code',\n",
       "   'headers',\n",
       "   'url',\n",
       "   'history',\n",
       "   'encoding',\n",
       "   'reason',\n",
       "   'cookies',\n",
       "   'elapsed',\n",
       "   'request']),\n",
       " ('__bool__', <bound method Response.__bool__ of <Response [200]>>),\n",
       " ('__class__', requests.models.Response),\n",
       " ('__delattr__',\n",
       "  <method-wrapper '__delattr__' of Response object at 0x0000027EF2957E20>),\n",
       " ('__dict__',\n",
       "  {'_content': b'{\\n  \"origin\": \"193.134.161.64\"\\n}\\n',\n",
       "   '_content_consumed': True,\n",
       "   '_next': None,\n",
       "   'status_code': 200,\n",
       "   'headers': {'Date': 'Thu, 27 Oct 2022 06:55:25 GMT', 'Content-Type': 'application/json', 'Content-Length': '33', 'Server': 'gunicorn/19.9.0', 'Access-Control-Allow-Origin': '*', 'Access-Control-Allow-Credentials': 'true', 'X-Cache': 'MISS from swre-prx001-ch-rum-9', 'Via': '1.1 swre-prx001-ch-rum-9 (squid)', 'Connection': 'keep-alive'},\n",
       "   'raw': <urllib3.response.HTTPResponse at 0x27ef29a0070>,\n",
       "   'url': 'http://httpbin.org/ip',\n",
       "   'encoding': 'utf-8',\n",
       "   'history': [],\n",
       "   'reason': 'OK',\n",
       "   'cookies': <RequestsCookieJar[]>,\n",
       "   'elapsed': datetime.timedelta(seconds=1, microseconds=107489),\n",
       "   'request': <PreparedRequest [GET]>,\n",
       "   'connection': <requests.adapters.HTTPAdapter at 0x27ef2955330>}),\n",
       " ('__dir__', <function Response.__dir__()>),\n",
       " ('__doc__',\n",
       "  \"The :class:`Response <Response>` object, which contains a\\n    server's response to an HTTP request.\\n    \"),\n",
       " ('__enter__', <bound method Response.__enter__ of <Response [200]>>),\n",
       " ('__eq__',\n",
       "  <method-wrapper '__eq__' of Response object at 0x0000027EF2957E20>),\n",
       " ('__exit__', <bound method Response.__exit__ of <Response [200]>>),\n",
       " ('__format__', <function Response.__format__(format_spec, /)>),\n",
       " ('__ge__',\n",
       "  <method-wrapper '__ge__' of Response object at 0x0000027EF2957E20>),\n",
       " ('__getattribute__',\n",
       "  <method-wrapper '__getattribute__' of Response object at 0x0000027EF2957E20>),\n",
       " ('__getstate__', <bound method Response.__getstate__ of <Response [200]>>),\n",
       " ('__gt__',\n",
       "  <method-wrapper '__gt__' of Response object at 0x0000027EF2957E20>),\n",
       " ('__hash__',\n",
       "  <method-wrapper '__hash__' of Response object at 0x0000027EF2957E20>),\n",
       " ('__init__', <bound method Response.__init__ of <Response [200]>>),\n",
       " ('__init_subclass__', <function Response.__init_subclass__>),\n",
       " ('__iter__', <bound method Response.__iter__ of <Response [200]>>),\n",
       " ('__le__',\n",
       "  <method-wrapper '__le__' of Response object at 0x0000027EF2957E20>),\n",
       " ('__lt__',\n",
       "  <method-wrapper '__lt__' of Response object at 0x0000027EF2957E20>),\n",
       " ('__module__', 'requests.models'),\n",
       " ('__ne__',\n",
       "  <method-wrapper '__ne__' of Response object at 0x0000027EF2957E20>),\n",
       " ('__new__', <function object.__new__(*args, **kwargs)>),\n",
       " ('__nonzero__', <bound method Response.__nonzero__ of <Response [200]>>),\n",
       " ('__reduce__', <function Response.__reduce__()>),\n",
       " ('__reduce_ex__', <function Response.__reduce_ex__(protocol, /)>),\n",
       " ('__repr__', <bound method Response.__repr__ of <Response [200]>>),\n",
       " ('__setattr__',\n",
       "  <method-wrapper '__setattr__' of Response object at 0x0000027EF2957E20>),\n",
       " ('__setstate__', <bound method Response.__setstate__ of <Response [200]>>),\n",
       " ('__sizeof__', <function Response.__sizeof__()>),\n",
       " ('__str__',\n",
       "  <method-wrapper '__str__' of Response object at 0x0000027EF2957E20>),\n",
       " ('__subclasshook__', <function Response.__subclasshook__>),\n",
       " ('__weakref__', None),\n",
       " ('_content', b'{\\n  \"origin\": \"193.134.161.64\"\\n}\\n'),\n",
       " ('_content_consumed', True),\n",
       " ('_next', None),\n",
       " ('apparent_encoding', 'ascii'),\n",
       " ('close', <bound method Response.close of <Response [200]>>),\n",
       " ('connection', <requests.adapters.HTTPAdapter at 0x27ef2955330>),\n",
       " ('content', b'{\\n  \"origin\": \"193.134.161.64\"\\n}\\n'),\n",
       " ('cookies', <RequestsCookieJar[]>),\n",
       " ('elapsed', datetime.timedelta(seconds=1, microseconds=107489)),\n",
       " ('encoding', 'utf-8'),\n",
       " ('headers',\n",
       "  {'Date': 'Thu, 27 Oct 2022 06:55:25 GMT', 'Content-Type': 'application/json', 'Content-Length': '33', 'Server': 'gunicorn/19.9.0', 'Access-Control-Allow-Origin': '*', 'Access-Control-Allow-Credentials': 'true', 'X-Cache': 'MISS from swre-prx001-ch-rum-9', 'Via': '1.1 swre-prx001-ch-rum-9 (squid)', 'Connection': 'keep-alive'}),\n",
       " ('history', []),\n",
       " ('is_permanent_redirect', False),\n",
       " ('is_redirect', False),\n",
       " ('iter_content', <bound method Response.iter_content of <Response [200]>>),\n",
       " ('iter_lines', <bound method Response.iter_lines of <Response [200]>>),\n",
       " ('json', <bound method Response.json of <Response [200]>>),\n",
       " ('links', {}),\n",
       " ('next', None),\n",
       " ('ok', True),\n",
       " ('raise_for_status',\n",
       "  <bound method Response.raise_for_status of <Response [200]>>),\n",
       " ('raw', <urllib3.response.HTTPResponse at 0x27ef29a0070>),\n",
       " ('reason', 'OK'),\n",
       " ('request', <PreparedRequest [GET]>),\n",
       " ('status_code', 200),\n",
       " ('text', '{\\n  \"origin\": \"193.134.161.64\"\\n}\\n'),\n",
       " ('url', 'http://httpbin.org/ip')]"
      ]
     },
     "execution_count": 1,
     "metadata": {},
     "output_type": "execute_result"
    }
   ],
   "source": [
    "import requests \n",
    "import inspect\n",
    "r = requests.get(\"http://httpbin.org/ip\")\n",
    "inspect.getmembers(r) #Return all the members of an object in a list of (name, value) pairs sorted by name."
   ]
  },
  {
   "cell_type": "markdown",
   "id": "80068a5d",
   "metadata": {},
   "source": [
    "### 2. Retrieving Source Code"
   ]
  },
  {
   "cell_type": "code",
   "execution_count": 5,
   "id": "02b1b6a5",
   "metadata": {},
   "outputs": [
    {
     "name": "stdout",
     "output_type": "stream",
     "text": [
      "class Request(RequestHooksMixin):\n",
      "    \"\"\"A user-created :class:`Request <Request>` object.\n",
      "\n",
      "    Used to prepare a :class:`PreparedRequest <PreparedRequest>`, which is sent to the server.\n",
      "\n",
      "    :param method: HTTP method to use.\n",
      "    :param url: URL to send.\n",
      "    :param headers: dictionary of headers to send.\n",
      "    :param files: dictionary of {filename: fileobject} files to multipart upload.\n",
      "    :param data: the body to attach to the request. If a dictionary or\n",
      "        list of tuples ``[(key, value)]`` is provided, form-encoding will\n",
      "        take place.\n",
      "    :param json: json for the body to attach to the request (if files or data is not specified).\n",
      "    :param params: URL parameters to append to the URL. If a dictionary or\n",
      "        list of tuples ``[(key, value)]`` is provided, form-encoding will\n",
      "        take place.\n",
      "    :param auth: Auth handler or (user, pass) tuple.\n",
      "    :param cookies: dictionary or CookieJar of cookies to attach to this request.\n",
      "    :param hooks: dictionary of callback hooks, for internal usage.\n",
      "\n",
      "    Usage::\n",
      "\n",
      "      >>> import requests\n",
      "      >>> req = requests.Request('GET', 'https://httpbin.org/get')\n",
      "      >>> req.prepare()\n",
      "      <PreparedRequest [GET]>\n",
      "    \"\"\"\n",
      "\n",
      "    def __init__(\n",
      "        self,\n",
      "        method=None,\n",
      "        url=None,\n",
      "        headers=None,\n",
      "        files=None,\n",
      "        data=None,\n",
      "        params=None,\n",
      "        auth=None,\n",
      "        cookies=None,\n",
      "        hooks=None,\n",
      "        json=None,\n",
      "    ):\n",
      "\n",
      "        # Default empty dicts for dict params.\n",
      "        data = [] if data is None else data\n",
      "        files = [] if files is None else files\n",
      "        headers = {} if headers is None else headers\n",
      "        params = {} if params is None else params\n",
      "        hooks = {} if hooks is None else hooks\n",
      "\n",
      "        self.hooks = default_hooks()\n",
      "        for (k, v) in list(hooks.items()):\n",
      "            self.register_hook(event=k, hook=v)\n",
      "\n",
      "        self.method = method\n",
      "        self.url = url\n",
      "        self.headers = headers\n",
      "        self.files = files\n",
      "        self.data = data\n",
      "        self.json = json\n",
      "        self.params = params\n",
      "        self.auth = auth\n",
      "        self.cookies = cookies\n",
      "\n",
      "    def __repr__(self):\n",
      "        return f\"<Request [{self.method}]>\"\n",
      "\n",
      "    def prepare(self):\n",
      "        \"\"\"Constructs a :class:`PreparedRequest <PreparedRequest>` for transmission and returns it.\"\"\"\n",
      "        p = PreparedRequest()\n",
      "        p.prepare(\n",
      "            method=self.method,\n",
      "            url=self.url,\n",
      "            headers=self.headers,\n",
      "            files=self.files,\n",
      "            data=self.data,\n",
      "            json=self.json,\n",
      "            params=self.params,\n",
      "            auth=self.auth,\n",
      "            cookies=self.cookies,\n",
      "            hooks=self.hooks,\n",
      "        )\n",
      "        return p\n",
      "\n"
     ]
    }
   ],
   "source": [
    "print(inspect.getsource(requests.Request))"
   ]
  },
  {
   "cell_type": "code",
   "execution_count": 13,
   "id": "7864bc88",
   "metadata": {},
   "outputs": [
    {
     "name": "stdout",
     "output_type": "stream",
     "text": [
      "(['class Request(RequestHooksMixin):\\n', '    \"\"\"A user-created :class:`Request <Request>` object.\\n', '\\n', '    Used to prepare a :class:`PreparedRequest <PreparedRequest>`, which is sent to the server.\\n', '\\n', '    :param method: HTTP method to use.\\n', '    :param url: URL to send.\\n', '    :param headers: dictionary of headers to send.\\n', '    :param files: dictionary of {filename: fileobject} files to multipart upload.\\n', '    :param data: the body to attach to the request. If a dictionary or\\n', '        list of tuples ``[(key, value)]`` is provided, form-encoding will\\n', '        take place.\\n', '    :param json: json for the body to attach to the request (if files or data is not specified).\\n', '    :param params: URL parameters to append to the URL. If a dictionary or\\n', '        list of tuples ``[(key, value)]`` is provided, form-encoding will\\n', '        take place.\\n', '    :param auth: Auth handler or (user, pass) tuple.\\n', '    :param cookies: dictionary or CookieJar of cookies to attach to this request.\\n', '    :param hooks: dictionary of callback hooks, for internal usage.\\n', '\\n', '    Usage::\\n', '\\n', '      >>> import requests\\n', \"      >>> req = requests.Request('GET', 'https://httpbin.org/get')\\n\", '      >>> req.prepare()\\n', '      <PreparedRequest [GET]>\\n', '    \"\"\"\\n', '\\n', '    def __init__(\\n', '        self,\\n', '        method=None,\\n', '        url=None,\\n', '        headers=None,\\n', '        files=None,\\n', '        data=None,\\n', '        params=None,\\n', '        auth=None,\\n', '        cookies=None,\\n', '        hooks=None,\\n', '        json=None,\\n', '    ):\\n', '\\n', '        # Default empty dicts for dict params.\\n', '        data = [] if data is None else data\\n', '        files = [] if files is None else files\\n', '        headers = {} if headers is None else headers\\n', '        params = {} if params is None else params\\n', '        hooks = {} if hooks is None else hooks\\n', '\\n', '        self.hooks = default_hooks()\\n', '        for (k, v) in list(hooks.items()):\\n', '            self.register_hook(event=k, hook=v)\\n', '\\n', '        self.method = method\\n', '        self.url = url\\n', '        self.headers = headers\\n', '        self.files = files\\n', '        self.data = data\\n', '        self.json = json\\n', '        self.params = params\\n', '        self.auth = auth\\n', '        self.cookies = cookies\\n', '\\n', '    def __repr__(self):\\n', '        return f\"<Request [{self.method}]>\"\\n', '\\n', '    def prepare(self):\\n', '        \"\"\"Constructs a :class:`PreparedRequest <PreparedRequest>` for transmission and returns it.\"\"\"\\n', '        p = PreparedRequest()\\n', '        p.prepare(\\n', '            method=self.method,\\n', '            url=self.url,\\n', '            headers=self.headers,\\n', '            files=self.files,\\n', '            data=self.data,\\n', '            json=self.json,\\n', '            params=self.params,\\n', '            auth=self.auth,\\n', '            cookies=self.cookies,\\n', '            hooks=self.hooks,\\n', '        )\\n', '        return p\\n'], 230)\n"
     ]
    }
   ],
   "source": [
    "lines = inspect.getsourcelines(requests.Request)\n",
    "print(lines)\n",
    "## print(lines[0])"
   ]
  },
  {
   "cell_type": "code",
   "execution_count": 18,
   "id": "6ae6e477",
   "metadata": {},
   "outputs": [
    {
     "data": {
      "text/plain": [
       "\"A user-created :class:`Request <Request>` object.\\n\\nUsed to prepare a :class:`PreparedRequest <PreparedRequest>`, which is sent to the server.\\n\\n:param method: HTTP method to use.\\n:param url: URL to send.\\n:param headers: dictionary of headers to send.\\n:param files: dictionary of {filename: fileobject} files to multipart upload.\\n:param data: the body to attach to the request. If a dictionary or\\n    list of tuples ``[(key, value)]`` is provided, form-encoding will\\n    take place.\\n:param json: json for the body to attach to the request (if files or data is not specified).\\n:param params: URL parameters to append to the URL. If a dictionary or\\n    list of tuples ``[(key, value)]`` is provided, form-encoding will\\n    take place.\\n:param auth: Auth handler or (user, pass) tuple.\\n:param cookies: dictionary or CookieJar of cookies to attach to this request.\\n:param hooks: dictionary of callback hooks, for internal usage.\\n\\nUsage::\\n\\n  >>> import requests\\n  >>> req = requests.Request('GET', 'https://httpbin.org/get')\\n  >>> req.prepare()\\n  <PreparedRequest [GET]>\""
      ]
     },
     "execution_count": 18,
     "metadata": {},
     "output_type": "execute_result"
    }
   ],
   "source": [
    "inspect.getdoc(requests.Request)"
   ]
  },
  {
   "cell_type": "code",
   "execution_count": null,
   "id": "33c8ad47",
   "metadata": {},
   "outputs": [],
   "source": []
  }
 ],
 "metadata": {
  "kernelspec": {
   "display_name": "Python 3 (ipykernel)",
   "language": "python",
   "name": "python3"
  },
  "language_info": {
   "codemirror_mode": {
    "name": "ipython",
    "version": 3
   },
   "file_extension": ".py",
   "mimetype": "text/x-python",
   "name": "python",
   "nbconvert_exporter": "python",
   "pygments_lexer": "ipython3",
   "version": "3.10.2"
  }
 },
 "nbformat": 4,
 "nbformat_minor": 5
}
