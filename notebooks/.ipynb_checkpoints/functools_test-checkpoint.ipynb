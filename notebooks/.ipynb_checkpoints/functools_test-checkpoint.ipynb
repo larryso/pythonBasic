{
 "cells": [
  {
   "cell_type": "markdown",
   "id": "eff76f5c",
   "metadata": {},
   "source": [
    "# Functools Module\n"
   ]
  },
  {
   "cell_type": "markdown",
   "id": "17aadc41",
   "metadata": {},
   "source": [
    "The functools module, part of Python’s standard Library, provides useful features that make it easier to work with high order functions (a function that returns a function or takes another function as an argument ). With these features, you can reuse or extend the utility of your functions or callable object without rewriting them. This makes the writing of reusable and maintainable code to be quite simple.\n",
    "\n",
    "As per the current stable release i.e., Python 3.8 series, the functools module contains 11 funtions and some of these may not be available or work differently on earlier or later releases. They include:\n",
    "* reduce()\n",
    "* lru_cache()\n",
    "* partial()\n",
    "* partialmethod()\n",
    "* singledispatch()\n",
    "* singledispatchmethod()\n",
    "* cached_property()\n",
    "* total_ordering()\n",
    "* update_wrapper()\n",
    "* wraps()\n",
    "* cmp_to_key()"
   ]
  },
  {
   "cell_type": "markdown",
   "id": "c6efed43",
   "metadata": {},
   "source": [
    "## Lambda\n"
   ]
  },
  {
   "cell_type": "markdown",
   "id": "45de957e",
   "metadata": {},
   "source": [
    "A lambda function is a small anonymous function.\n",
    "\n",
    "A lambda function can take any number of arguments, but can only have one expression."
   ]
  },
  {
   "cell_type": "markdown",
   "id": "0d8a14a2",
   "metadata": {},
   "source": [
    "### Syntax"
   ]
  },
  {
   "cell_type": "markdown",
   "id": "70f2e105",
   "metadata": {},
   "source": [
    "> lambda arguments : expression"
   ]
  },
  {
   "cell_type": "code",
   "execution_count": 2,
   "id": "5a43d340",
   "metadata": {},
   "outputs": [
    {
     "name": "stdout",
     "output_type": "stream",
     "text": [
      "9\n"
     ]
    }
   ],
   "source": [
    "x = lambda a, b: a+b\n",
    "print(x(4,5))"
   ]
  },
  {
   "cell_type": "markdown",
   "id": "25992218",
   "metadata": {},
   "source": [
    "## Why Use Lambda Functions?"
   ]
  },
  {
   "cell_type": "markdown",
   "id": "0f1a58b4",
   "metadata": {},
   "source": [
    "The power of lambda is better shown when you use them as an anonymous function inside another function.\n",
    "\n",
    "Say you have a function definition that takes one argument, and that argument will be multiplied with an unknown number:"
   ]
  },
  {
   "cell_type": "code",
   "execution_count": 5,
   "id": "61cb5d2a",
   "metadata": {},
   "outputs": [
    {
     "name": "stdout",
     "output_type": "stream",
     "text": [
      "22\n"
     ]
    }
   ],
   "source": [
    "## myFunc return a function object\n",
    "def myFunc(n):\n",
    "    return lambda a : a*n\n",
    "\n",
    "myDoubler = myFunc(2)\n",
    "print(myDoubler(11))"
   ]
  },
  {
   "cell_type": "markdown",
   "id": "bdc0d4cd",
   "metadata": {},
   "source": [
    "### 1. reduce()"
   ]
  },
  {
   "cell_type": "markdown",
   "id": "4b95ab8d",
   "metadata": {},
   "source": [
    "The reduce(function, sequence) function receives two arguments, a function and an iterable. It applies the argument function cumulatively to all elements of the iterable from the left to the right and then returns a single value.\n",
    "To put it simply, it first applies the argument function to the first two elements of the iterable and the value returned by this first call becomes the function’s first argument and the third element of the iterable becomes the second argument. This process is repeated until the iterable is exhausted."
   ]
  },
  {
   "cell_type": "code",
   "execution_count": 6,
   "id": "1b72dd92",
   "metadata": {},
   "outputs": [
    {
     "name": "stdout",
     "output_type": "stream",
     "text": [
      "10\n"
     ]
    }
   ],
   "source": [
    "from functools import reduce\n",
    "ls=[1,2,3,4]\n",
    "list_sum = reduce(lambda a, b: a+b, ls)\n",
    "print(list_sum)"
   ]
  },
  {
   "cell_type": "code",
   "execution_count": 7,
   "id": "8bba31f2",
   "metadata": {},
   "outputs": [
    {
     "name": "stdout",
     "output_type": "stream",
     "text": [
      "24\n"
     ]
    }
   ],
   "source": [
    "list_multiple = reduce(lambda a, b: a*b, ls)\n",
    "print(list_multiple)"
   ]
  },
  {
   "cell_type": "markdown",
   "id": "dc576e6a",
   "metadata": {},
   "source": [
    "### 2. lru_cache()"
   ]
  },
  {
   "cell_type": "markdown",
   "id": "21b89516",
   "metadata": {},
   "source": [
    "lru_cache() is a decorator, which wraps a function with a memoizing callable used for saving up to maxsize the results of a function call and returns the stored value if the function is called with the same arguments again. It can save time when an expensive or I/O bound function is periodically called with the same arguments.\n",
    "Essentially it uses two data structures, a dictionary to map a function’s parameters to its result, and a linked list to keep track of the function’s call history.\n",
    "In full LRU Cache stands for Least-Recently-Used Cache and refers to a cache which drops the least recently used element if the maximum size of entries is reached. The LRU feature is disabled if maxsize is set to None and caches arguments of different data types separately if typed is True e.g., f(3) and f(3.0) will be cached distinctly.\n",
    "\n",
    "An example of the utility of lru_cache() can be shown in optimizing code that generates the factorial of a number"
   ]
  },
  {
   "cell_type": "code",
   "execution_count": 10,
   "id": "9dc32163",
   "metadata": {},
   "outputs": [
    {
     "name": "stdout",
     "output_type": "stream",
     "text": [
      "14.9 µs ± 531 ns per loop (mean ± std. dev. of 7 runs, 100,000 loops each)\n"
     ]
    }
   ],
   "source": [
    "from functools import lru_cache\n",
    "\n",
    "def uncached_factorial(n):\n",
    "    if n < 1:\n",
    "        return 1\n",
    "    return n * uncached_factorial(n-1)\n",
    "\n",
    "## evaluate the performence \n",
    "%timeit uncached_factorial(100)"
   ]
  },
  {
   "cell_type": "code",
   "execution_count": 18,
   "id": "f6e72b68",
   "metadata": {},
   "outputs": [
    {
     "name": "stdout",
     "output_type": "stream",
     "text": [
      "79.5 ns ± 6.86 ns per loop (mean ± std. dev. of 7 runs, 10,000,000 loops each)\n"
     ]
    }
   ],
   "source": [
    "@lru_cache(maxsize=None)\n",
    "def cached_factorial(n):\n",
    "    if n == 0:\n",
    "        return 1\n",
    "    if n == 1:\n",
    "        return 1\n",
    "    return n * uncached_factorial(n)\n",
    "%timeit cached_factorial(100)"
   ]
  },
  {
   "cell_type": "markdown",
   "id": "f3255f4b",
   "metadata": {},
   "source": [
    "Without @lru_cache the factorial function takes around 1.46 µs to run while, on the other hand, with @lru_cache, the function only takes 158 ns. This equates to almost a 100,000 times improvement in performance- Amazing! Right?\n",
    "\n",
    "In general, the LRU cache should only be used when you want to reuse previously computed values. Accordingly, it doesn’t make sense to cache functions that need to create distinct mutable objects on each call. Also, since a dictionary is used to cache results, the positional and keyword arguments to the function must be hashable."
   ]
  },
  {
   "cell_type": "markdown",
   "id": "de8bc660",
   "metadata": {},
   "source": [
    "## 3. partial()\n",
    "\n",
    "Partial functions are derived functions that have some pre-assigned input parameters. For example, if a function takes in two parameters say “a” and “b”, a partial function can be created from it that has “a” as a prefilled argument and it can then be called with “b” as the only parameter. Functool’s partial() is used to create partial functions/objects and this is a useful feature as it allows for the:\n",
    "* Replication of existing functions with some arguments already passed in.\n",
    "* Creation of newer version of the existing function in a well-documented manner.\n",
    "Let’s consider a simple example to illustrate this"
   ]
  },
  {
   "cell_type": "code",
   "execution_count": 24,
   "id": "6a6b9b7b",
   "metadata": {},
   "outputs": [
    {
     "name": "stdout",
     "output_type": "stream",
     "text": [
      "72\n"
     ]
    }
   ],
   "source": [
    "from functools import partial\n",
    "import math\n",
    "\n",
    "permutaion_of_nine = partial(math.perm, 9) ## math.perm(n,k) choose K from n, math.perm(7, 5) = 7*6*5*4*3 = 2520\n",
    "permutaion_of_nine.__doc__ = '''Returns the number of ways to choose k items f'''\n",
    "permutaion_of_nine.__name__ = \"premutation_of_nine\"\n",
    "\n",
    "print(permutaion_of_nine(2))"
   ]
  },
  {
   "cell_type": "markdown",
   "id": "da7e2b87",
   "metadata": {},
   "source": [
    "We first create a partial object based on math.perm() function. In this case, we set 9 as the first argument. Consequently, the newly created permutation_of_nine function behaves as if we call math.perm() with 9 set as the default parameter. In our example, permutation_of_nine(2) does the same thing as math.perm(9,2).\n",
    "\n",
    "It is important to note that the __name__ and __doc__ attributes are to be specified by the programmer as they are not created automatically\n",
    "\n",
    "The partial function also comes with important attributes that prove to be useful in tracking partial functions/objects. These include:\n",
    "\n",
    "partial.args — Which returns the positional arguments preassigned to the partial function.\n",
    "partial.keywords — Which returns the keyword arguments preassigned to partial function.\n",
    "partial.func — Which returns the name of parent function along with its address.\n",
    "Let us look at another that illustrates these features"
   ]
  },
  {
   "cell_type": "code",
   "execution_count": 26,
   "id": "ce7d30e7",
   "metadata": {},
   "outputs": [
    {
     "name": "stdout",
     "output_type": "stream",
     "text": [
      "(2,)\n"
     ]
    }
   ],
   "source": [
    "## parent function\n",
    "def adder(x, y):\n",
    "    return x + y\n",
    "\n",
    "## partial function\n",
    "\n",
    "add2 = partial(adder, 2)\n",
    "print(add2.args)\n",
    "add9 = partial(adder, 9)"
   ]
  },
  {
   "cell_type": "markdown",
   "id": "8bd614dd",
   "metadata": {},
   "source": [
    "Partials are incredibly useful. For example, in a pipe-lined sequence of function calls in which the returned value from one function is the argument passed to the next."
   ]
  },
  {
   "cell_type": "markdown",
   "id": "d38a98c8",
   "metadata": {},
   "source": [
    "## 4. partialmethod()\n",
    "The partialmethod() returns a new partialmethod descriptor which behaves like partial except that it is designed to be used as a method definition rather than being directly callable. You can think of it as the partial() for methods.\n",
    "\n",
    "Perhaps an example is best suited to illustrate this."
   ]
  },
  {
   "cell_type": "code",
   "execution_count": 42,
   "id": "d8d8631c",
   "metadata": {},
   "outputs": [
    {
     "name": "stdout",
     "output_type": "stream",
     "text": [
      "Default animal is:Bear\n",
      "Dog\n"
     ]
    }
   ],
   "source": [
    "from functools import partialmethod\n",
    "\n",
    "class Animal:\n",
    "    def __init__(self):\n",
    "        self.species =\"Bear\"\n",
    "    def _set_species(self, species):\n",
    "        self.species = species\n",
    "    set_dog = partialmethod(_set_species,species=\"Dog\")\n",
    "    set_rabbit = partialmethod(_set_species, species=\"Rabbit\")\n",
    "    \n",
    "animal = Animal()\n",
    "print(f'Default animal is:{animal.species}')\n",
    "animal.set_dog()\n",
    "print(animal.species)"
   ]
  },
  {
   "cell_type": "markdown",
   "id": "c2f1f47c",
   "metadata": {},
   "source": [
    "We first create an Animal class that has an attribute species and an instance method _set_species() that sets the animal’s species. Next, we create two partialmethod descriptors set_dog() and set_rabbit(), which call _set_species() with “Dog” or “Rabbit”, respectively. This allows us to create a new instance of the class Animal, call set_dog() to change the animal’s species to Dog and finally print the new attribute."
   ]
  },
  {
   "cell_type": "markdown",
   "id": "4db45572",
   "metadata": {},
   "source": [
    "## 5.singledispatch()\n",
    "Before we discuss this function, it is important that we first gloss over two important concepts:\n",
    "\n",
    "1. The first one is a generic function which is a function composed of multiple functions implementing the same operation for different types. The implementation to be used during a call is determined by the dispatch algorithm.\n",
    "2. The second is the Single dispatch, which is a form of a generic function dispatch where the implementation is chosen based on the type of a single argument."
   ]
  },
  {
   "cell_type": "markdown",
   "id": "2c0f6f36",
   "metadata": {},
   "source": [
    "With this in mind, the functool’s singledispatch is a decorator that transforms a simple function into a generic function whose behaviour is dependent on the type of its first argument. In plain language, it is used for function overloading\n",
    "\n",
    "Let see an example of it in action."
   ]
  },
  {
   "cell_type": "code",
   "execution_count": null,
   "id": "d3840156",
   "metadata": {},
   "outputs": [],
   "source": [
    "from functools import singledispatch\n",
    "\n",
    "@singledispatch\n",
    "def devide(a:int, b:int)->float:\n",
    "    return a/b\n"
   ]
  }
 ],
 "metadata": {
  "kernelspec": {
   "display_name": "Python 3 (ipykernel)",
   "language": "python",
   "name": "python3"
  },
  "language_info": {
   "codemirror_mode": {
    "name": "ipython",
    "version": 3
   },
   "file_extension": ".py",
   "mimetype": "text/x-python",
   "name": "python",
   "nbconvert_exporter": "python",
   "pygments_lexer": "ipython3",
   "version": "3.10.2"
  }
 },
 "nbformat": 4,
 "nbformat_minor": 5
}
