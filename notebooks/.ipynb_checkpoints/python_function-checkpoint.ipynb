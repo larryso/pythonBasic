{
 "cells": [
  {
   "cell_type": "markdown",
   "id": "cceab9f1",
   "metadata": {},
   "source": [
    "# \\*args and \\**kwargs in Python"
   ]
  },
  {
   "cell_type": "markdown",
   "id": "a62ee6f6",
   "metadata": {},
   "source": [
    "Special Symbols Used for passing arguments:-\n",
    "\n",
    "* \\*args (Non-Keyword Arguments)\n",
    "* \\**kwargs (Keyword Arguments)"
   ]
  },
  {
   "cell_type": "markdown",
   "id": "79c8c398",
   "metadata": {},
   "source": [
    "## What is Python \\*args ?"
   ]
  },
  {
   "cell_type": "markdown",
   "id": "9b5ba727",
   "metadata": {},
   "source": [
    "The special syntax \\*args in function definitions in python is used to pass a variable number of arguments to a function. It is used to pass a non-key worded, variable-length argument list. "
   ]
  },
  {
   "cell_type": "code",
   "execution_count": 3,
   "id": "503245be",
   "metadata": {},
   "outputs": [
    {
     "name": "stdout",
     "output_type": "stream",
     "text": [
      "Larry\n",
      "Berry\n",
      "Alex\n",
      "1\n",
      "2\n",
      "3\n",
      "4\n"
     ]
    }
   ],
   "source": [
    "#Example 1:\n",
    "def my_func(*args):\n",
    "    for arg in args:\n",
    "        print(arg)\n",
    "        \n",
    "my_func(\"Larry\", \"Berry\", \"Alex\")\n",
    "my_func(1,2,3,4)"
   ]
  },
  {
   "cell_type": "markdown",
   "id": "26b0192c",
   "metadata": {},
   "source": [
    "## What is Python **kwargs\n",
    "The special syntax **kwargs in function definitions in python is used to pass a keyworded, variable-length argument list. We use the name kwargs with the double star. The reason is that the double star allows us to pass through keyword arguments (and any number of them).\n",
    "\n",
    "* A keyword argument is where you provide a name to the variable as you pass it into the function.\n",
    "* One can think of the kwargs as being a dictionary that maps each keyword to the value that we pass alongside it. That is why when we iterate over the kwargs there doesn’t seem to be any order in which they were printed out."
   ]
  },
  {
   "cell_type": "code",
   "execution_count": 7,
   "id": "3b9228cc",
   "metadata": {},
   "outputs": [
    {
     "ename": "IndentationError",
     "evalue": "unindent does not match any outer indentation level (<tokenize>, line 4)",
     "output_type": "error",
     "traceback": [
      "\u001b[1;36m  File \u001b[1;32m<tokenize>:4\u001b[1;36m\u001b[0m\n\u001b[1;33m    for key, value in kwargs.items():\u001b[0m\n\u001b[1;37m    ^\u001b[0m\n\u001b[1;31mIndentationError\u001b[0m\u001b[1;31m:\u001b[0m unindent does not match any outer indentation level\n"
     ]
    }
   ],
   "source": [
    "# Example 1: \n",
    "def my_func(arg1, **kwargs):\n",
    "    print(f'First args: {arg1}')\n",
    "    for key, value in kwargs.items():\n",
    "        print(f'{key}={value}')\n",
    "        \n",
    "my_func(\"first arg\", first='Geeks', second=\"for\", third=\"Geeks\")"
   ]
  },
  {
   "cell_type": "code",
   "execution_count": null,
   "id": "8aff50a0",
   "metadata": {},
   "outputs": [],
   "source": []
  }
 ],
 "metadata": {
  "kernelspec": {
   "display_name": "Python 3 (ipykernel)",
   "language": "python",
   "name": "python3"
  },
  "language_info": {
   "codemirror_mode": {
    "name": "ipython",
    "version": 3
   },
   "file_extension": ".py",
   "mimetype": "text/x-python",
   "name": "python",
   "nbconvert_exporter": "python",
   "pygments_lexer": "ipython3",
   "version": "3.10.2"
  }
 },
 "nbformat": 4,
 "nbformat_minor": 5
}
