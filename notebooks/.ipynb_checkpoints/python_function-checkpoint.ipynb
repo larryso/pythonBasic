{
 "cells": [
  {
   "cell_type": "markdown",
   "id": "5179863b",
   "metadata": {},
   "source": [
    "# \\*args and \\**kwargs in Python"
   ]
  },
  {
   "cell_type": "markdown",
   "id": "48ba71f9",
   "metadata": {},
   "source": [
    "Special Symbols Used for passing arguments:-\n",
    "\n",
    "* \\*args (Non-Keyword Arguments)\n",
    "* \\**kwargs (Keyword Arguments)"
   ]
  },
  {
   "cell_type": "markdown",
   "id": "d02fb07e",
   "metadata": {},
   "source": [
    "## What is Python \\*args ?"
   ]
  },
  {
   "cell_type": "markdown",
   "id": "535cc5cb",
   "metadata": {},
   "source": [
    "The special syntax \\*args in function definitions in python is used to pass a variable number of arguments to a function. It is used to pass a non-key worded, variable-length argument list. "
   ]
  },
  {
   "cell_type": "code",
   "execution_count": 3,
   "id": "7f9e3c7d",
   "metadata": {},
   "outputs": [
    {
     "name": "stdout",
     "output_type": "stream",
     "text": [
      "Larry\n",
      "Berry\n",
      "Alex\n",
      "1\n",
      "2\n",
      "3\n",
      "4\n"
     ]
    }
   ],
   "source": [
    "#Example 1:\n",
    "def my_func(*args):\n",
    "    for arg in args:\n",
    "        print(arg)\n",
    "        \n",
    "my_func(\"Larry\", \"Berry\", \"Alex\")\n",
    "my_func(1,2,3,4)"
   ]
  },
  {
   "cell_type": "markdown",
   "id": "5b91ca34",
   "metadata": {},
   "source": [
    "## What is Python **kwargs\n",
    "The special syntax **kwargs in function definitions in python is used to pass a keyworded, variable-length argument list. We use the name kwargs with the double star. The reason is that the double star allows us to pass through keyword arguments (and any number of them).\n",
    "\n",
    "* A keyword argument is where you provide a name to the variable as you pass it into the function.\n",
    "* One can think of the kwargs as being a dictionary that maps each keyword to the value that we pass alongside it. That is why when we iterate over the kwargs there doesn’t seem to be any order in which they were printed out."
   ]
  },
  {
   "cell_type": "code",
   "execution_count": 8,
   "id": "65315636",
   "metadata": {},
   "outputs": [
    {
     "name": "stdout",
     "output_type": "stream",
     "text": [
      "First args: first arg\n",
      "first=Geeks\n",
      "second=for\n",
      "third=Geeks\n"
     ]
    }
   ],
   "source": [
    "# Example 1: \n",
    "def my_func(arg1, **kwargs):\n",
    "    print(f'First args: {arg1}')\n",
    "    for key, value in kwargs.items():\n",
    "        print(f'{key}={value}')\n",
    "        \n",
    "my_func(\"first arg\", first='Geeks', second=\"for\", third=\"Geeks\")"
   ]
  },
  {
   "cell_type": "markdown",
   "id": "18030c87",
   "metadata": {},
   "source": [
    "## Using both \\*args and \\**kwargs to call a function"
   ]
  },
  {
   "cell_type": "code",
   "execution_count": 10,
   "id": "26910ae0",
   "metadata": {},
   "outputs": [
    {
     "name": "stdout",
     "output_type": "stream",
     "text": [
      "('geeks', 'for', 'geeks')\n",
      "{'first': 'Geeks', 'mid': 'for', 'last': 'Geeks'}\n"
     ]
    }
   ],
   "source": [
    "# Example 2:\n",
    "def my_func(*args, **kwargs):\n",
    "    print(args)\n",
    "    print(kwargs)\n",
    "    \n",
    "my_func('geeks', 'for', 'geeks', first=\"Geeks\", mid=\"for\", last=\"Geeks\")"
   ]
  },
  {
   "cell_type": "code",
   "execution_count": 11,
   "id": "dc37d63a",
   "metadata": {},
   "outputs": [
    {
     "name": "stdout",
     "output_type": "stream",
     "text": [
      "fdfd\n"
     ]
    }
   ],
   "source": [
    "class car:\n",
    "    def __init__(self, **kvargs):\n",
    "        self.speed = kvargs[\"s\"]\n",
    "        self.color = kvargs[\"c\"]\n",
    "        \n",
    "audi = car(s='fdfd',c='yellow')\n",
    "\n",
    "print(audi.speed)"
   ]
  },
  {
   "cell_type": "markdown",
   "id": "dfb7e128",
   "metadata": {},
   "source": [
    "## Dunder or magic methods in Python\n",
    "Dunder or magic methods in Python are the methods having two prefix and suffix underscores in the method name. Dunder here means “Double Under (Underscores)”. These are commonly used for operator overloading. Few examples for magic methods are: __init__, __add__, __len__, __repr__ etc.\n",
    "\n",
    "The __init__ method for initialization is invoked without any call, when an instance of a class is created, like constructors in certain other programming languages such as C++, Java, C#, PHP etc. These methods are the reason we can add two strings with ‘+’ operator without any explicit typecasting.\n",
    "\n",
    "Here’s a simple implementation :"
   ]
  },
  {
   "cell_type": "code",
   "execution_count": 4,
   "id": "df46e0ce",
   "metadata": {},
   "outputs": [
    {
     "name": "stdout",
     "output_type": "stream",
     "text": [
      "<__main__.String object at 0x0000016C7DD7A8F0>\n"
     ]
    }
   ],
   "source": [
    "class String:\n",
    "      \n",
    "    # magic method to initiate object\n",
    "    def __init__(self, string):\n",
    "        self.string = string\n",
    "          \n",
    "# Driver Code\n",
    "if __name__ == '__main__':\n",
    "      \n",
    "    # object creation\n",
    "    string1 = String('Hello')\n",
    "  \n",
    "    # print object location\n",
    "    print(string1)"
   ]
  },
  {
   "cell_type": "markdown",
   "id": "6e2becec",
   "metadata": {},
   "source": [
    "The above snippet of code prints only the memory address of the string object. Let’s add a __repr__ method to represent our object."
   ]
  },
  {
   "cell_type": "code",
   "execution_count": 5,
   "id": "c3d2bc8d",
   "metadata": {},
   "outputs": [
    {
     "name": "stdout",
     "output_type": "stream",
     "text": [
      "Object: Hello\n"
     ]
    }
   ],
   "source": [
    "# declare our own string class\n",
    "class String:\n",
    "      \n",
    "    # magic method to initiate object\n",
    "    def __init__(self, string):\n",
    "        self.string = string\n",
    "          \n",
    "    # print our string object\n",
    "    def __repr__(self):\n",
    "        return 'Object: {}'.format(self.string)\n",
    "  \n",
    "# Driver Code\n",
    "if __name__ == '__main__':\n",
    "      \n",
    "    # object creation\n",
    "    string1 = String('Hello')\n",
    "  \n",
    "    # print object location\n",
    "    print(string1)"
   ]
  },
  {
   "cell_type": "markdown",
   "id": "100f1165",
   "metadata": {},
   "source": [
    "If we try to add a string to it :"
   ]
  },
  {
   "cell_type": "code",
   "execution_count": 6,
   "id": "20b2104e",
   "metadata": {},
   "outputs": [
    {
     "ename": "TypeError",
     "evalue": "unsupported operand type(s) for +: 'String' and 'str'",
     "output_type": "error",
     "traceback": [
      "\u001b[1;31m---------------------------------------------------------------------------\u001b[0m",
      "\u001b[1;31mTypeError\u001b[0m                                 Traceback (most recent call last)",
      "Cell \u001b[1;32mIn [6], line 19\u001b[0m\n\u001b[0;32m     16\u001b[0m string1 \u001b[38;5;241m=\u001b[39m String(\u001b[38;5;124m'\u001b[39m\u001b[38;5;124mHello\u001b[39m\u001b[38;5;124m'\u001b[39m)\n\u001b[0;32m     18\u001b[0m \u001b[38;5;66;03m# concatenate String object and a string\u001b[39;00m\n\u001b[1;32m---> 19\u001b[0m \u001b[38;5;28mprint\u001b[39m(\u001b[43mstring1\u001b[49m\u001b[43m \u001b[49m\u001b[38;5;241;43m+\u001b[39;49m\u001b[38;5;124;43m'\u001b[39;49m\u001b[38;5;124;43m world\u001b[39;49m\u001b[38;5;124;43m'\u001b[39;49m)\n",
      "\u001b[1;31mTypeError\u001b[0m: unsupported operand type(s) for +: 'String' and 'str'"
     ]
    }
   ],
   "source": [
    "# declare our own string class\n",
    "class String:\n",
    "      \n",
    "    # magic method to initiate object\n",
    "    def __init__(self, string):\n",
    "        self.string = string\n",
    "          \n",
    "    # print our string object\n",
    "    def __repr__(self):\n",
    "        return 'Object: {}'.format(self.string)\n",
    "  \n",
    "# Driver Code\n",
    "if __name__ == '__main__':\n",
    "      \n",
    "    # object creation\n",
    "    string1 = String('Hello')\n",
    "      \n",
    "    # concatenate String object and a string\n",
    "    print(string1 +' world')"
   ]
  },
  {
   "cell_type": "markdown",
   "id": "a16c532c",
   "metadata": {},
   "source": [
    "Now add \\_\\_add\\_\\_ method to String class :"
   ]
  },
  {
   "cell_type": "code",
   "execution_count": 3,
   "id": "3464d712",
   "metadata": {},
   "outputs": [
    {
     "name": "stdout",
     "output_type": "stream",
     "text": [
      "Hello Geeks\n",
      "Object: Hello\n"
     ]
    }
   ],
   "source": [
    "# declare our own string class\n",
    "class String:\n",
    "      \n",
    "    # magic method to initiate object\n",
    "    def __init__(self, string):\n",
    "        self.string = string \n",
    "          \n",
    "    # print our string object\n",
    "    def __repr__(self):\n",
    "        return 'Object: {}'.format(self.string)\n",
    "          \n",
    "    def __add__(self, other):\n",
    "        return self.string + other\n",
    "  \n",
    "# Driver Code\n",
    "if __name__ == '__main__':\n",
    "      \n",
    "    # object creation\n",
    "    string1 = String('Hello')\n",
    "      \n",
    "    # concatenate String object and a string\n",
    "    print(string1 +' Geeks')\n",
    "    print(string1.__repr__())"
   ]
  },
  {
   "cell_type": "markdown",
   "id": "b1656b3c",
   "metadata": {},
   "source": [
    "## The __file__ variable:\n",
    "\n",
    "\\_\\_file\\_\\_ is a variable that contains the path to the module that is currently being imported. Python creates a __file__ variable for itself when it is about to import a module. The updating and maintaining of this variable is the responsibility of the import system. The import system can choose to leave the variable empty when there is no semantic meaning, that is when the module/file is imported from the database. This attribute is a String. This can be used to know the path of the module you are using. To understand the usage of \\_\\_file\\_\\_ consider the following example."
   ]
  },
  {
   "cell_type": "code",
   "execution_count": 10,
   "id": "c52e5c90",
   "metadata": {},
   "outputs": [
    {
     "ename": "NameError",
     "evalue": "name 'functools' is not defined",
     "output_type": "error",
     "traceback": [
      "\u001b[1;31m---------------------------------------------------------------------------\u001b[0m",
      "\u001b[1;31mNameError\u001b[0m                                 Traceback (most recent call last)",
      "Cell \u001b[1;32mIn [10], line 1\u001b[0m\n\u001b[1;32m----> 1\u001b[0m \u001b[38;5;28mprint\u001b[39m(\u001b[43mfunctools\u001b[49m\u001b[38;5;241m.\u001b[39m\u001b[38;5;18m__file__\u001b[39m)\n",
      "\u001b[1;31mNameError\u001b[0m: name 'functools' is not defined"
     ]
    }
   ],
   "source": [
    "import functools\n",
    "\n",
    "print(functools.__file__)"
   ]
  },
  {
   "cell_type": "code",
   "execution_count": null,
   "id": "5d64e46e",
   "metadata": {},
   "outputs": [],
   "source": []
  }
 ],
 "metadata": {
  "kernelspec": {
   "display_name": "Python 3 (ipykernel)",
   "language": "python",
   "name": "python3"
  },
  "language_info": {
   "codemirror_mode": {
    "name": "ipython",
    "version": 3
   },
   "file_extension": ".py",
   "mimetype": "text/x-python",
   "name": "python",
   "nbconvert_exporter": "python",
   "pygments_lexer": "ipython3",
   "version": "3.10.2"
  }
 },
 "nbformat": 4,
 "nbformat_minor": 5
}
