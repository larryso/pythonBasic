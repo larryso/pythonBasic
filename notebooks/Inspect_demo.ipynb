{
 "cells": [
  {
   "cell_type": "markdown",
   "id": "b57784fc",
   "metadata": {},
   "source": [
    "# inspect — Inspect live objects"
   ]
  },
  {
   "cell_type": "markdown",
   "id": "85ac15b2",
   "metadata": {},
   "source": [
    "The inspect module provides several useful functions to help get information about live objects such as modules, classes, methods, functions, tracebacks, frame objects, and code objects. For example, it can help you examine the contents of a class, retrieve the source code of a method, extract and format the argument list for a function, or get all the information you need to display a detailed traceback.\n",
    "\n",
    "There are four main kinds of services provided by this module: type checking, getting source code, inspecting classes and functions, and examining the interpreter stack"
   ]
  },
  {
   "cell_type": "markdown",
   "id": "0138a635",
   "metadata": {},
   "source": [
    "## 7 usefull application of inspect module"
   ]
  },
  {
   "cell_type": "markdown",
   "id": "b1bf9fa4",
   "metadata": {},
   "source": [
    "### 1. Examing content of an Object \n",
    "\n",
    "* get members"
   ]
  },
  {
   "cell_type": "code",
   "execution_count": 1,
   "id": "b4af4020",
   "metadata": {},
   "outputs": [
    {
     "data": {
      "text/plain": [
       "[('__attrs__',\n",
       "  ['_content',\n",
       "   'status_code',\n",
       "   'headers',\n",
       "   'url',\n",
       "   'history',\n",
       "   'encoding',\n",
       "   'reason',\n",
       "   'cookies',\n",
       "   'elapsed',\n",
       "   'request']),\n",
       " ('__bool__', <bound method Response.__bool__ of <Response [200]>>),\n",
       " ('__class__', requests.models.Response),\n",
       " ('__delattr__',\n",
       "  <method-wrapper '__delattr__' of Response object at 0x000001C810277E20>),\n",
       " ('__dict__',\n",
       "  {'_content': b'{\\n  \"origin\": \"193.134.161.64\"\\n}\\n',\n",
       "   '_content_consumed': True,\n",
       "   '_next': None,\n",
       "   'status_code': 200,\n",
       "   'headers': {'Date': 'Tue, 08 Nov 2022 03:11:44 GMT', 'Content-Type': 'application/json', 'Content-Length': '33', 'Server': 'gunicorn/19.9.0', 'Access-Control-Allow-Origin': '*', 'Access-Control-Allow-Credentials': 'true', 'X-Cache': 'MISS from swre-prx001-ch-rum-7', 'Via': '1.1 swre-prx001-ch-rum-7 (squid)', 'Connection': 'keep-alive'},\n",
       "   'raw': <urllib3.response.HTTPResponse at 0x1c8102c0070>,\n",
       "   'url': 'http://httpbin.org/ip',\n",
       "   'encoding': 'utf-8',\n",
       "   'history': [],\n",
       "   'reason': 'OK',\n",
       "   'cookies': <RequestsCookieJar[]>,\n",
       "   'elapsed': datetime.timedelta(microseconds=630398),\n",
       "   'request': <PreparedRequest [GET]>,\n",
       "   'connection': <requests.adapters.HTTPAdapter at 0x1c810275330>}),\n",
       " ('__dir__', <function Response.__dir__()>),\n",
       " ('__doc__',\n",
       "  \"The :class:`Response <Response>` object, which contains a\\n    server's response to an HTTP request.\\n    \"),\n",
       " ('__enter__', <bound method Response.__enter__ of <Response [200]>>),\n",
       " ('__eq__',\n",
       "  <method-wrapper '__eq__' of Response object at 0x000001C810277E20>),\n",
       " ('__exit__', <bound method Response.__exit__ of <Response [200]>>),\n",
       " ('__format__', <function Response.__format__(format_spec, /)>),\n",
       " ('__ge__',\n",
       "  <method-wrapper '__ge__' of Response object at 0x000001C810277E20>),\n",
       " ('__getattribute__',\n",
       "  <method-wrapper '__getattribute__' of Response object at 0x000001C810277E20>),\n",
       " ('__getstate__', <bound method Response.__getstate__ of <Response [200]>>),\n",
       " ('__gt__',\n",
       "  <method-wrapper '__gt__' of Response object at 0x000001C810277E20>),\n",
       " ('__hash__',\n",
       "  <method-wrapper '__hash__' of Response object at 0x000001C810277E20>),\n",
       " ('__init__', <bound method Response.__init__ of <Response [200]>>),\n",
       " ('__init_subclass__', <function Response.__init_subclass__>),\n",
       " ('__iter__', <bound method Response.__iter__ of <Response [200]>>),\n",
       " ('__le__',\n",
       "  <method-wrapper '__le__' of Response object at 0x000001C810277E20>),\n",
       " ('__lt__',\n",
       "  <method-wrapper '__lt__' of Response object at 0x000001C810277E20>),\n",
       " ('__module__', 'requests.models'),\n",
       " ('__ne__',\n",
       "  <method-wrapper '__ne__' of Response object at 0x000001C810277E20>),\n",
       " ('__new__', <function object.__new__(*args, **kwargs)>),\n",
       " ('__nonzero__', <bound method Response.__nonzero__ of <Response [200]>>),\n",
       " ('__reduce__', <function Response.__reduce__()>),\n",
       " ('__reduce_ex__', <function Response.__reduce_ex__(protocol, /)>),\n",
       " ('__repr__', <bound method Response.__repr__ of <Response [200]>>),\n",
       " ('__setattr__',\n",
       "  <method-wrapper '__setattr__' of Response object at 0x000001C810277E20>),\n",
       " ('__setstate__', <bound method Response.__setstate__ of <Response [200]>>),\n",
       " ('__sizeof__', <function Response.__sizeof__()>),\n",
       " ('__str__',\n",
       "  <method-wrapper '__str__' of Response object at 0x000001C810277E20>),\n",
       " ('__subclasshook__', <function Response.__subclasshook__>),\n",
       " ('__weakref__', None),\n",
       " ('_content', b'{\\n  \"origin\": \"193.134.161.64\"\\n}\\n'),\n",
       " ('_content_consumed', True),\n",
       " ('_next', None),\n",
       " ('apparent_encoding', 'ascii'),\n",
       " ('close', <bound method Response.close of <Response [200]>>),\n",
       " ('connection', <requests.adapters.HTTPAdapter at 0x1c810275330>),\n",
       " ('content', b'{\\n  \"origin\": \"193.134.161.64\"\\n}\\n'),\n",
       " ('cookies', <RequestsCookieJar[]>),\n",
       " ('elapsed', datetime.timedelta(microseconds=630398)),\n",
       " ('encoding', 'utf-8'),\n",
       " ('headers',\n",
       "  {'Date': 'Tue, 08 Nov 2022 03:11:44 GMT', 'Content-Type': 'application/json', 'Content-Length': '33', 'Server': 'gunicorn/19.9.0', 'Access-Control-Allow-Origin': '*', 'Access-Control-Allow-Credentials': 'true', 'X-Cache': 'MISS from swre-prx001-ch-rum-7', 'Via': '1.1 swre-prx001-ch-rum-7 (squid)', 'Connection': 'keep-alive'}),\n",
       " ('history', []),\n",
       " ('is_permanent_redirect', False),\n",
       " ('is_redirect', False),\n",
       " ('iter_content', <bound method Response.iter_content of <Response [200]>>),\n",
       " ('iter_lines', <bound method Response.iter_lines of <Response [200]>>),\n",
       " ('json', <bound method Response.json of <Response [200]>>),\n",
       " ('links', {}),\n",
       " ('next', None),\n",
       " ('ok', True),\n",
       " ('raise_for_status',\n",
       "  <bound method Response.raise_for_status of <Response [200]>>),\n",
       " ('raw', <urllib3.response.HTTPResponse at 0x1c8102c0070>),\n",
       " ('reason', 'OK'),\n",
       " ('request', <PreparedRequest [GET]>),\n",
       " ('status_code', 200),\n",
       " ('text', '{\\n  \"origin\": \"193.134.161.64\"\\n}\\n'),\n",
       " ('url', 'http://httpbin.org/ip')]"
      ]
     },
     "execution_count": 1,
     "metadata": {},
     "output_type": "execute_result"
    }
   ],
   "source": [
    "import requests \n",
    "import inspect\n",
    "r = requests.get(\"http://httpbin.org/ip\")\n",
    "inspect.getmembers(r) #Return all the members of an object in a list of (name, value) pairs sorted by name."
   ]
  },
  {
   "cell_type": "markdown",
   "id": "27f20711",
   "metadata": {},
   "source": [
    "### 2. Retrieving Source Code"
   ]
  },
  {
   "cell_type": "code",
   "execution_count": 5,
   "id": "78771afc",
   "metadata": {},
   "outputs": [
    {
     "name": "stdout",
     "output_type": "stream",
     "text": [
      "class Request(RequestHooksMixin):\n",
      "    \"\"\"A user-created :class:`Request <Request>` object.\n",
      "\n",
      "    Used to prepare a :class:`PreparedRequest <PreparedRequest>`, which is sent to the server.\n",
      "\n",
      "    :param method: HTTP method to use.\n",
      "    :param url: URL to send.\n",
      "    :param headers: dictionary of headers to send.\n",
      "    :param files: dictionary of {filename: fileobject} files to multipart upload.\n",
      "    :param data: the body to attach to the request. If a dictionary or\n",
      "        list of tuples ``[(key, value)]`` is provided, form-encoding will\n",
      "        take place.\n",
      "    :param json: json for the body to attach to the request (if files or data is not specified).\n",
      "    :param params: URL parameters to append to the URL. If a dictionary or\n",
      "        list of tuples ``[(key, value)]`` is provided, form-encoding will\n",
      "        take place.\n",
      "    :param auth: Auth handler or (user, pass) tuple.\n",
      "    :param cookies: dictionary or CookieJar of cookies to attach to this request.\n",
      "    :param hooks: dictionary of callback hooks, for internal usage.\n",
      "\n",
      "    Usage::\n",
      "\n",
      "      >>> import requests\n",
      "      >>> req = requests.Request('GET', 'https://httpbin.org/get')\n",
      "      >>> req.prepare()\n",
      "      <PreparedRequest [GET]>\n",
      "    \"\"\"\n",
      "\n",
      "    def __init__(\n",
      "        self,\n",
      "        method=None,\n",
      "        url=None,\n",
      "        headers=None,\n",
      "        files=None,\n",
      "        data=None,\n",
      "        params=None,\n",
      "        auth=None,\n",
      "        cookies=None,\n",
      "        hooks=None,\n",
      "        json=None,\n",
      "    ):\n",
      "\n",
      "        # Default empty dicts for dict params.\n",
      "        data = [] if data is None else data\n",
      "        files = [] if files is None else files\n",
      "        headers = {} if headers is None else headers\n",
      "        params = {} if params is None else params\n",
      "        hooks = {} if hooks is None else hooks\n",
      "\n",
      "        self.hooks = default_hooks()\n",
      "        for (k, v) in list(hooks.items()):\n",
      "            self.register_hook(event=k, hook=v)\n",
      "\n",
      "        self.method = method\n",
      "        self.url = url\n",
      "        self.headers = headers\n",
      "        self.files = files\n",
      "        self.data = data\n",
      "        self.json = json\n",
      "        self.params = params\n",
      "        self.auth = auth\n",
      "        self.cookies = cookies\n",
      "\n",
      "    def __repr__(self):\n",
      "        return f\"<Request [{self.method}]>\"\n",
      "\n",
      "    def prepare(self):\n",
      "        \"\"\"Constructs a :class:`PreparedRequest <PreparedRequest>` for transmission and returns it.\"\"\"\n",
      "        p = PreparedRequest()\n",
      "        p.prepare(\n",
      "            method=self.method,\n",
      "            url=self.url,\n",
      "            headers=self.headers,\n",
      "            files=self.files,\n",
      "            data=self.data,\n",
      "            json=self.json,\n",
      "            params=self.params,\n",
      "            auth=self.auth,\n",
      "            cookies=self.cookies,\n",
      "            hooks=self.hooks,\n",
      "        )\n",
      "        return p\n",
      "\n"
     ]
    }
   ],
   "source": [
    "print(inspect.getsource(requests.Request))"
   ]
  },
  {
   "cell_type": "code",
   "execution_count": 13,
   "id": "9efc846b",
   "metadata": {},
   "outputs": [
    {
     "name": "stdout",
     "output_type": "stream",
     "text": [
      "(['class Request(RequestHooksMixin):\\n', '    \"\"\"A user-created :class:`Request <Request>` object.\\n', '\\n', '    Used to prepare a :class:`PreparedRequest <PreparedRequest>`, which is sent to the server.\\n', '\\n', '    :param method: HTTP method to use.\\n', '    :param url: URL to send.\\n', '    :param headers: dictionary of headers to send.\\n', '    :param files: dictionary of {filename: fileobject} files to multipart upload.\\n', '    :param data: the body to attach to the request. If a dictionary or\\n', '        list of tuples ``[(key, value)]`` is provided, form-encoding will\\n', '        take place.\\n', '    :param json: json for the body to attach to the request (if files or data is not specified).\\n', '    :param params: URL parameters to append to the URL. If a dictionary or\\n', '        list of tuples ``[(key, value)]`` is provided, form-encoding will\\n', '        take place.\\n', '    :param auth: Auth handler or (user, pass) tuple.\\n', '    :param cookies: dictionary or CookieJar of cookies to attach to this request.\\n', '    :param hooks: dictionary of callback hooks, for internal usage.\\n', '\\n', '    Usage::\\n', '\\n', '      >>> import requests\\n', \"      >>> req = requests.Request('GET', 'https://httpbin.org/get')\\n\", '      >>> req.prepare()\\n', '      <PreparedRequest [GET]>\\n', '    \"\"\"\\n', '\\n', '    def __init__(\\n', '        self,\\n', '        method=None,\\n', '        url=None,\\n', '        headers=None,\\n', '        files=None,\\n', '        data=None,\\n', '        params=None,\\n', '        auth=None,\\n', '        cookies=None,\\n', '        hooks=None,\\n', '        json=None,\\n', '    ):\\n', '\\n', '        # Default empty dicts for dict params.\\n', '        data = [] if data is None else data\\n', '        files = [] if files is None else files\\n', '        headers = {} if headers is None else headers\\n', '        params = {} if params is None else params\\n', '        hooks = {} if hooks is None else hooks\\n', '\\n', '        self.hooks = default_hooks()\\n', '        for (k, v) in list(hooks.items()):\\n', '            self.register_hook(event=k, hook=v)\\n', '\\n', '        self.method = method\\n', '        self.url = url\\n', '        self.headers = headers\\n', '        self.files = files\\n', '        self.data = data\\n', '        self.json = json\\n', '        self.params = params\\n', '        self.auth = auth\\n', '        self.cookies = cookies\\n', '\\n', '    def __repr__(self):\\n', '        return f\"<Request [{self.method}]>\"\\n', '\\n', '    def prepare(self):\\n', '        \"\"\"Constructs a :class:`PreparedRequest <PreparedRequest>` for transmission and returns it.\"\"\"\\n', '        p = PreparedRequest()\\n', '        p.prepare(\\n', '            method=self.method,\\n', '            url=self.url,\\n', '            headers=self.headers,\\n', '            files=self.files,\\n', '            data=self.data,\\n', '            json=self.json,\\n', '            params=self.params,\\n', '            auth=self.auth,\\n', '            cookies=self.cookies,\\n', '            hooks=self.hooks,\\n', '        )\\n', '        return p\\n'], 230)\n"
     ]
    }
   ],
   "source": [
    "lines = inspect.getsourcelines(requests.Request)\n",
    "print(lines)\n",
    "## print(lines[0])"
   ]
  },
  {
   "cell_type": "code",
   "execution_count": 18,
   "id": "d9d11837",
   "metadata": {},
   "outputs": [
    {
     "data": {
      "text/plain": [
       "\"A user-created :class:`Request <Request>` object.\\n\\nUsed to prepare a :class:`PreparedRequest <PreparedRequest>`, which is sent to the server.\\n\\n:param method: HTTP method to use.\\n:param url: URL to send.\\n:param headers: dictionary of headers to send.\\n:param files: dictionary of {filename: fileobject} files to multipart upload.\\n:param data: the body to attach to the request. If a dictionary or\\n    list of tuples ``[(key, value)]`` is provided, form-encoding will\\n    take place.\\n:param json: json for the body to attach to the request (if files or data is not specified).\\n:param params: URL parameters to append to the URL. If a dictionary or\\n    list of tuples ``[(key, value)]`` is provided, form-encoding will\\n    take place.\\n:param auth: Auth handler or (user, pass) tuple.\\n:param cookies: dictionary or CookieJar of cookies to attach to this request.\\n:param hooks: dictionary of callback hooks, for internal usage.\\n\\nUsage::\\n\\n  >>> import requests\\n  >>> req = requests.Request('GET', 'https://httpbin.org/get')\\n  >>> req.prepare()\\n  <PreparedRequest [GET]>\""
      ]
     },
     "execution_count": 18,
     "metadata": {},
     "output_type": "execute_result"
    }
   ],
   "source": [
    "inspect.getdoc(requests.Request)"
   ]
  },
  {
   "cell_type": "markdown",
   "id": "0116d633",
   "metadata": {},
   "source": [
    "### 3. Class Tree"
   ]
  },
  {
   "cell_type": "code",
   "execution_count": 19,
   "id": "da836509",
   "metadata": {},
   "outputs": [],
   "source": [
    "class A:\n",
    "    pass\n",
    "\n",
    "class B(A):\n",
    "    pass\n",
    "\n",
    "class C(B):\n",
    "    pass\n"
   ]
  },
  {
   "cell_type": "code",
   "execution_count": 21,
   "id": "08797572",
   "metadata": {},
   "outputs": [
    {
     "data": {
      "text/plain": [
       "[(__main__.B, (__main__.A,)), [(__main__.C, (__main__.B,))]]"
      ]
     },
     "execution_count": 21,
     "metadata": {},
     "output_type": "execute_result"
    }
   ],
   "source": [
    "inspect.getclasstree([C])"
   ]
  },
  {
   "cell_type": "code",
   "execution_count": 26,
   "id": "76382b01",
   "metadata": {},
   "outputs": [
    {
     "name": "stdout",
     "output_type": "stream",
     "text": [
      "requests\n",
      "Request\n",
      "True\n"
     ]
    }
   ],
   "source": [
    "print(requests.__name__)##当一个 Python 模块或包被导入时，__name__ 会被设为模块的名称。 通常，这将是 Python 文件本身的名称去掉.py\n",
    "print(requests.Request.__name__) \n",
    "print(__name__ == '__main__')"
   ]
  },
  {
   "cell_type": "markdown",
   "id": "e9acb860",
   "metadata": {},
   "source": [
    "### 4. Extracting the argument list of a function\n",
    "\n",
    "* signature\n",
    "* getfullargspec"
   ]
  },
  {
   "cell_type": "code",
   "execution_count": 2,
   "id": "33936c00",
   "metadata": {},
   "outputs": [],
   "source": [
    "sig = inspect.signature(requests.get)"
   ]
  },
  {
   "cell_type": "code",
   "execution_count": 3,
   "id": "0664b67f",
   "metadata": {},
   "outputs": [
    {
     "data": {
      "text/plain": [
       "<Signature (url, params=None, **kwargs)>"
      ]
     },
     "execution_count": 3,
     "metadata": {},
     "output_type": "execute_result"
    }
   ],
   "source": [
    "sig"
   ]
  },
  {
   "cell_type": "code",
   "execution_count": 30,
   "id": "fe762432",
   "metadata": {},
   "outputs": [
    {
     "data": {
      "text/plain": [
       "FullArgSpec(args=['url', 'params'], varargs=None, varkw='kwargs', defaults=(None,), kwonlyargs=[], kwonlydefaults=None, annotations={})"
      ]
     },
     "execution_count": 30,
     "metadata": {},
     "output_type": "execute_result"
    }
   ],
   "source": [
    "inspect.getfullargspec(requests.get)"
   ]
  },
  {
   "cell_type": "markdown",
   "id": "c26c5dfc",
   "metadata": {},
   "source": [
    "### 5. Unwrapping function"
   ]
  },
  {
   "cell_type": "code",
   "execution_count": 44,
   "id": "f3037ef6",
   "metadata": {},
   "outputs": [],
   "source": [
    "import functools\n",
    "\n",
    "@functools.lru_cache()\n",
    "def func(a, b):\n",
    "    return a + b "
   ]
  },
  {
   "cell_type": "code",
   "execution_count": 45,
   "id": "93f6ef47",
   "metadata": {},
   "outputs": [
    {
     "data": {
      "text/plain": [
       "<functools._lru_cache_wrapper at 0x27ef44ad380>"
      ]
     },
     "execution_count": 45,
     "metadata": {},
     "output_type": "execute_result"
    }
   ],
   "source": [
    "func\n"
   ]
  },
  {
   "cell_type": "code",
   "execution_count": 47,
   "id": "cdc5394b",
   "metadata": {},
   "outputs": [
    {
     "data": {
      "text/plain": [
       "<function __main__.func(a, b)>"
      ]
     },
     "execution_count": 47,
     "metadata": {},
     "output_type": "execute_result"
    }
   ],
   "source": [
    "inspect.unwrap(func)"
   ]
  },
  {
   "cell_type": "code",
   "execution_count": 4,
   "id": "2e78eeca",
   "metadata": {},
   "outputs": [
    {
     "ename": "IndentationError",
     "evalue": "unexpected unindent (2864320773.py, line 13)",
     "output_type": "error",
     "traceback": [
      "\u001b[1;36m  Cell \u001b[1;32mIn [4], line 13\u001b[1;36m\u001b[0m\n\u001b[1;33m    @functo\u001b[0m\n\u001b[1;37m           ^\u001b[0m\n\u001b[1;31mIndentationError\u001b[0m\u001b[1;31m:\u001b[0m unexpected unindent\n"
     ]
    }
   ],
   "source": [
    "import time\n",
    "import math\n",
    "\n",
    "def logger(func):\n",
    "    @functools.wraps(func)\n",
    "    def wrapper(*args, **kwargs):\n",
    "        print(\"Running function: \", func.__name__)\n",
    "        func(*args, **kwargs)\n",
    "        print(\"Finish running function: \",func.__name__)\n",
    "    return wrapper\n",
    "\n",
    "def timmer(func):\n",
    "    @functools.wraps(func)\n",
    "    def wrapper(*args, **kwargs):\n",
    "        begin = time.time()\n",
    "        func(*args, **kwargs)\n",
    "        "
   ]
  },
  {
   "cell_type": "code",
   "execution_count": null,
   "id": "57fce1e5",
   "metadata": {},
   "outputs": [],
   "source": []
  }
 ],
 "metadata": {
  "kernelspec": {
   "display_name": "Python 3 (ipykernel)",
   "language": "python",
   "name": "python3"
  },
  "language_info": {
   "codemirror_mode": {
    "name": "ipython",
    "version": 3
   },
   "file_extension": ".py",
   "mimetype": "text/x-python",
   "name": "python",
   "nbconvert_exporter": "python",
   "pygments_lexer": "ipython3",
   "version": "3.10.2"
  }
 },
 "nbformat": 4,
 "nbformat_minor": 5
}
