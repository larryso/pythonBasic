{
 "cells": [
  {
   "cell_type": "markdown",
   "id": "eff76f5c",
   "metadata": {},
   "source": [
    "# Functools Module\n"
   ]
  },
  {
   "cell_type": "markdown",
   "id": "17aadc41",
   "metadata": {},
   "source": [
    "The functools module, part of Python’s standard Library, provides useful features that make it easier to work with high order functions (a function that returns a function or takes another function as an argument ). With these features, you can reuse or extend the utility of your functions or callable object without rewriting them. This makes the writing of reusable and maintainable code to be quite simple.\n",
    "\n",
    "As per the current stable release i.e., Python 3.8 series, the functools module contains 11 funtions and some of these may not be available or work differently on earlier or later releases. They include:\n",
    "* reduce()\n",
    "* lru_cache()\n",
    "* partial()\n",
    "* partialmethod()\n",
    "* singledispatch()\n",
    "* singledispatchmethod()\n",
    "* cached_property()\n",
    "* total_ordering()\n",
    "* update_wrapper()\n",
    "* wraps()\n",
    "* cmp_to_key()"
   ]
  },
  {
   "cell_type": "markdown",
   "id": "c6efed43",
   "metadata": {},
   "source": [
    "## Lambda\n"
   ]
  },
  {
   "cell_type": "markdown",
   "id": "45de957e",
   "metadata": {},
   "source": [
    "A lambda function is a small anonymous function.\n",
    "\n",
    "A lambda function can take any number of arguments, but can only have one expression."
   ]
  },
  {
   "cell_type": "markdown",
   "id": "0d8a14a2",
   "metadata": {},
   "source": [
    "### Syntax"
   ]
  },
  {
   "cell_type": "markdown",
   "id": "70f2e105",
   "metadata": {},
   "source": [
    "> lambda arguments : expression"
   ]
  },
  {
   "cell_type": "code",
   "execution_count": 2,
   "id": "5a43d340",
   "metadata": {},
   "outputs": [
    {
     "name": "stdout",
     "output_type": "stream",
     "text": [
      "9\n"
     ]
    }
   ],
   "source": [
    "x = lambda a, b: a+b\n",
    "print(x(4,5))"
   ]
  },
  {
   "cell_type": "markdown",
   "id": "25992218",
   "metadata": {},
   "source": [
    "## Why Use Lambda Functions?"
   ]
  },
  {
   "cell_type": "markdown",
   "id": "0f1a58b4",
   "metadata": {},
   "source": [
    "The power of lambda is better shown when you use them as an anonymous function inside another function.\n",
    "\n",
    "Say you have a function definition that takes one argument, and that argument will be multiplied with an unknown number:"
   ]
  },
  {
   "cell_type": "code",
   "execution_count": 5,
   "id": "61cb5d2a",
   "metadata": {},
   "outputs": [
    {
     "name": "stdout",
     "output_type": "stream",
     "text": [
      "22\n"
     ]
    }
   ],
   "source": [
    "## myFunc return a function object\n",
    "def myFunc(n):\n",
    "    return lambda a : a*n\n",
    "\n",
    "myDoubler = myFunc(2)\n",
    "print(myDoubler(11))"
   ]
  },
  {
   "cell_type": "markdown",
   "id": "bdc0d4cd",
   "metadata": {},
   "source": [
    "### 1. reduce()"
   ]
  },
  {
   "cell_type": "markdown",
   "id": "4b95ab8d",
   "metadata": {},
   "source": [
    "The reduce(function, sequence) function receives two arguments, a function and an iterable. It applies the argument function cumulatively to all elements of the iterable from the left to the right and then returns a single value.\n",
    "To put it simply, it first applies the argument function to the first two elements of the iterable and the value returned by this first call becomes the function’s first argument and the third element of the iterable becomes the second argument. This process is repeated until the iterable is exhausted."
   ]
  },
  {
   "cell_type": "code",
   "execution_count": 6,
   "id": "1b72dd92",
   "metadata": {},
   "outputs": [
    {
     "name": "stdout",
     "output_type": "stream",
     "text": [
      "10\n"
     ]
    }
   ],
   "source": [
    "from functools import reduce\n",
    "ls=[1,2,3,4]\n",
    "list_sum = reduce(lambda a, b: a+b, ls)\n",
    "print(list_sum)"
   ]
  },
  {
   "cell_type": "code",
   "execution_count": 7,
   "id": "8bba31f2",
   "metadata": {},
   "outputs": [
    {
     "name": "stdout",
     "output_type": "stream",
     "text": [
      "24\n"
     ]
    }
   ],
   "source": [
    "list_multiple = reduce(lambda a, b: a*b, ls)\n",
    "print(list_multiple)"
   ]
  },
  {
   "cell_type": "markdown",
   "id": "dc576e6a",
   "metadata": {},
   "source": [
    "### 2. lru_cache()"
   ]
  },
  {
   "cell_type": "markdown",
   "id": "21b89516",
   "metadata": {},
   "source": [
    "lru_cache() is a decorator, which wraps a function with a memoizing callable used for saving up to maxsize the results of a function call and returns the stored value if the function is called with the same arguments again. It can save time when an expensive or I/O bound function is periodically called with the same arguments.\n",
    "Essentially it uses two data structures, a dictionary to map a function’s parameters to its result, and a linked list to keep track of the function’s call history.\n",
    "In full LRU Cache stands for Least-Recently-Used Cache and refers to a cache which drops the least recently used element if the maximum size of entries is reached. The LRU feature is disabled if maxsize is set to None and caches arguments of different data types separately if typed is True e.g., f(3) and f(3.0) will be cached distinctly.\n",
    "\n",
    "An example of the utility of lru_cache() can be shown in optimizing code that generates the factorial of a number"
   ]
  },
  {
   "cell_type": "code",
   "execution_count": 10,
   "id": "9dc32163",
   "metadata": {},
   "outputs": [
    {
     "name": "stdout",
     "output_type": "stream",
     "text": [
      "14.9 µs ± 531 ns per loop (mean ± std. dev. of 7 runs, 100,000 loops each)\n"
     ]
    }
   ],
   "source": [
    "from functools import lru_cache\n",
    "\n",
    "def uncached_factorial(n):\n",
    "    if n < 1:\n",
    "        return 1\n",
    "    return n * uncached_factorial(n-1)\n",
    "\n",
    "## evaluate the performence \n",
    "%timeit uncached_factorial(100)"
   ]
  },
  {
   "cell_type": "code",
   "execution_count": 18,
   "id": "f6e72b68",
   "metadata": {},
   "outputs": [
    {
     "name": "stdout",
     "output_type": "stream",
     "text": [
      "79.5 ns ± 6.86 ns per loop (mean ± std. dev. of 7 runs, 10,000,000 loops each)\n"
     ]
    }
   ],
   "source": [
    "@lru_cache(maxsize=None)\n",
    "def cached_factorial(n):\n",
    "    if n == 0:\n",
    "        return 1\n",
    "    if n == 1:\n",
    "        return 1\n",
    "    return n * uncached_factorial(n)\n",
    "%timeit cached_factorial(100)"
   ]
  },
  {
   "cell_type": "markdown",
   "id": "f3255f4b",
   "metadata": {},
   "source": [
    "Without @lru_cache the factorial function takes around 1.46 µs to run while, on the other hand, with @lru_cache, the function only takes 158 ns. This equates to almost a 100,000 times improvement in performance- Amazing! Right?\n",
    "\n",
    "In general, the LRU cache should only be used when you want to reuse previously computed values. Accordingly, it doesn’t make sense to cache functions that need to create distinct mutable objects on each call. Also, since a dictionary is used to cache results, the positional and keyword arguments to the function must be hashable."
   ]
  },
  {
   "cell_type": "markdown",
   "id": "de8bc660",
   "metadata": {},
   "source": [
    "## 3. partial()\n",
    "\n",
    "Partial functions are derived functions that have some pre-assigned input parameters. For example, if a function takes in two parameters say “a” and “b”, a partial function can be created from it that has “a” as a prefilled argument and it can then be called with “b” as the only parameter. Functool’s partial() is used to create partial functions/objects and this is a useful feature as it allows for the:\n",
    "* Replication of existing functions with some arguments already passed in.\n",
    "* Creation of newer version of the existing function in a well-documented manner.\n",
    "Let’s consider a simple example to illustrate this"
   ]
  },
  {
   "cell_type": "code",
   "execution_count": 24,
   "id": "6a6b9b7b",
   "metadata": {},
   "outputs": [
    {
     "name": "stdout",
     "output_type": "stream",
     "text": [
      "72\n"
     ]
    }
   ],
   "source": [
    "from functools import partial\n",
    "import math\n",
    "\n",
    "permutaion_of_nine = partial(math.perm, 9) ## math.perm(n,k) choose K from n, math.perm(7, 5) = 7*6*5*4*3 = 2520\n",
    "permutaion_of_nine.__doc__ = '''Returns the number of ways to choose k items f'''\n",
    "permutaion_of_nine.__name__ = \"premutation_of_nine\"\n",
    "\n",
    "print(permutaion_of_nine(2))"
   ]
  },
  {
   "cell_type": "markdown",
   "id": "da7e2b87",
   "metadata": {},
   "source": [
    "We first create a partial object based on math.perm() function. In this case, we set 9 as the first argument. Consequently, the newly created permutation_of_nine function behaves as if we call math.perm() with 9 set as the default parameter. In our example, permutation_of_nine(2) does the same thing as math.perm(9,2).\n",
    "\n",
    "It is important to note that the __name__ and __doc__ attributes are to be specified by the programmer as they are not created automatically\n",
    "\n",
    "The partial function also comes with important attributes that prove to be useful in tracking partial functions/objects. These include:\n",
    "\n",
    "partial.args — Which returns the positional arguments preassigned to the partial function.\n",
    "partial.keywords — Which returns the keyword arguments preassigned to partial function.\n",
    "partial.func — Which returns the name of parent function along with its address.\n",
    "Let us look at another that illustrates these features"
   ]
  },
  {
   "cell_type": "code",
   "execution_count": 26,
   "id": "ce7d30e7",
   "metadata": {},
   "outputs": [
    {
     "name": "stdout",
     "output_type": "stream",
     "text": [
      "(2,)\n"
     ]
    }
   ],
   "source": [
    "## parent function\n",
    "def adder(x, y):\n",
    "    return x + y\n",
    "\n",
    "## partial function\n",
    "\n",
    "add2 = partial(adder, 2)\n",
    "print(add2.args)\n",
    "add9 = partial(adder, 9)"
   ]
  },
  {
   "cell_type": "markdown",
   "id": "8bd614dd",
   "metadata": {},
   "source": [
    "Partials are incredibly useful. For example, in a pipe-lined sequence of function calls in which the returned value from one function is the argument passed to the next."
   ]
  },
  {
   "cell_type": "markdown",
   "id": "d38a98c8",
   "metadata": {},
   "source": [
    "## 4. partialmethod()\n",
    "The partialmethod() returns a new partialmethod descriptor which behaves like partial except that it is designed to be used as a method definition rather than being directly callable. You can think of it as the partial() for methods.\n",
    "\n",
    "Perhaps an example is best suited to illustrate this."
   ]
  },
  {
   "cell_type": "code",
   "execution_count": 42,
   "id": "d8d8631c",
   "metadata": {},
   "outputs": [
    {
     "name": "stdout",
     "output_type": "stream",
     "text": [
      "Default animal is:Bear\n",
      "Dog\n"
     ]
    }
   ],
   "source": [
    "from functools import partialmethod\n",
    "\n",
    "class Animal:\n",
    "    def __init__(self):\n",
    "        self.species =\"Bear\"\n",
    "    def _set_species(self, species):\n",
    "        self.species = species\n",
    "    set_dog = partialmethod(_set_species,species=\"Dog\")\n",
    "    set_rabbit = partialmethod(_set_species, species=\"Rabbit\")\n",
    "    \n",
    "animal = Animal()\n",
    "print(f'Default animal is:{animal.species}')\n",
    "animal.set_dog()\n",
    "print(animal.species)"
   ]
  },
  {
   "cell_type": "markdown",
   "id": "c2f1f47c",
   "metadata": {},
   "source": [
    "We first create an Animal class that has an attribute species and an instance method _set_species() that sets the animal’s species. Next, we create two partialmethod descriptors set_dog() and set_rabbit(), which call _set_species() with “Dog” or “Rabbit”, respectively. This allows us to create a new instance of the class Animal, call set_dog() to change the animal’s species to Dog and finally print the new attribute."
   ]
  },
  {
   "cell_type": "markdown",
   "id": "4db45572",
   "metadata": {},
   "source": [
    "## 5.singledispatch()\n",
    "Before we discuss this function, it is important that we first gloss over two important concepts:\n",
    "\n",
    "1. The first one is a generic function which is a function composed of multiple functions implementing the same operation for different types. The implementation to be used during a call is determined by the dispatch algorithm.\n",
    "2. The second is the Single dispatch, which is a form of a generic function dispatch where the implementation is chosen based on the type of a single argument."
   ]
  },
  {
   "cell_type": "markdown",
   "id": "2c0f6f36",
   "metadata": {},
   "source": [
    "With this in mind, the functool’s singledispatch is a decorator that transforms a simple function into a generic function whose behaviour is dependent on the type of its first argument. In plain language, it is used for function overloading\n",
    "\n",
    "Let see an example of it in action."
   ]
  },
  {
   "cell_type": "code",
   "execution_count": 4,
   "id": "d3840156",
   "metadata": {},
   "outputs": [
    {
     "name": "stdout",
     "output_type": "stream",
     "text": [
      "2.0\n",
      "4/2\n"
     ]
    }
   ],
   "source": [
    "from functools import singledispatch\n",
    "\n",
    "@singledispatch\n",
    "def devide_i(a:int, b:int)->float:\n",
    "    return a/b\n",
    "@devide_i.register(str)\n",
    "def _(a:str, b:str) ->str:\n",
    "    return f'{a}/{b}'\n",
    "\n",
    "print(devide_i(4,2))\n",
    "print(devide_i('4', '2'))\n"
   ]
  },
  {
   "cell_type": "markdown",
   "id": "1a680b43",
   "metadata": {},
   "source": [
    "We first define a function divide() that takes two arguments a and b and returns the value of a/b. However, dividing strings will result in a TypeError and to deal with this we define the _ functions which specifies the behaviour of divide() if it is supplied with strings. Note that the overloaded implementations are registered using the register() attribute of the generic function"
   ]
  },
  {
   "cell_type": "markdown",
   "id": "fa4c540d",
   "metadata": {},
   "source": [
    "## 6. singledispatchmethod()\n",
    "It is a decorator that does the exact thing as @singledispatch but it is specified for methods rather than functions.\n",
    "\n",
    "Consider the following example."
   ]
  },
  {
   "cell_type": "code",
   "execution_count": 23,
   "id": "674421c5",
   "metadata": {},
   "outputs": [
    {
     "ename": "TypeError",
     "evalue": "Invalid annotation for 'args'. typing.List[int] is not a class.",
     "output_type": "error",
     "traceback": [
      "\u001b[1;31m---------------------------------------------------------------------------\u001b[0m",
      "\u001b[1;31mTypeError\u001b[0m                                 Traceback (most recent call last)",
      "Cell \u001b[1;32mIn [23], line 5\u001b[0m\n\u001b[0;32m      2\u001b[0m \u001b[38;5;28;01mimport\u001b[39;00m \u001b[38;5;21;01mmath\u001b[39;00m\n\u001b[0;32m      3\u001b[0m \u001b[38;5;28;01mfrom\u001b[39;00m \u001b[38;5;21;01mtyping\u001b[39;00m \u001b[38;5;28;01mimport\u001b[39;00m List, Set\n\u001b[1;32m----> 5\u001b[0m \u001b[38;5;28;01mclass\u001b[39;00m \u001b[38;5;21;01mProduct\u001b[39;00m:\n\u001b[0;32m      6\u001b[0m     \u001b[38;5;129m@singledispatchmethod\u001b[39m\n\u001b[0;32m      7\u001b[0m     \u001b[38;5;28;01mdef\u001b[39;00m \u001b[38;5;21mprod_n\u001b[39m(\u001b[38;5;28mself\u001b[39m, args):\n\u001b[0;32m      8\u001b[0m         \u001b[38;5;28;01mraise\u001b[39;00m \u001b[38;5;167;01mNotImplementedError\u001b[39;00m(\u001b[38;5;124mf\u001b[39m\u001b[38;5;124m'\u001b[39m\u001b[38;5;124mcannot multiply \u001b[39m\u001b[38;5;132;01m{\u001b[39;00margs\u001b[38;5;132;01m}\u001b[39;00m\u001b[38;5;124m'\u001b[39m)\n",
      "Cell \u001b[1;32mIn [23], line 11\u001b[0m, in \u001b[0;36mProduct\u001b[1;34m()\u001b[0m\n\u001b[0;32m      6\u001b[0m \u001b[38;5;129m@singledispatchmethod\u001b[39m\n\u001b[0;32m      7\u001b[0m \u001b[38;5;28;01mdef\u001b[39;00m \u001b[38;5;21mprod_n\u001b[39m(\u001b[38;5;28mself\u001b[39m, args):\n\u001b[0;32m      8\u001b[0m     \u001b[38;5;28;01mraise\u001b[39;00m \u001b[38;5;167;01mNotImplementedError\u001b[39;00m(\u001b[38;5;124mf\u001b[39m\u001b[38;5;124m'\u001b[39m\u001b[38;5;124mcannot multiply \u001b[39m\u001b[38;5;132;01m{\u001b[39;00margs\u001b[38;5;132;01m}\u001b[39;00m\u001b[38;5;124m'\u001b[39m)\n\u001b[0;32m     10\u001b[0m \u001b[43m\u001b[49m\u001b[38;5;129;43m@prod_n\u001b[39;49m\u001b[38;5;241;43m.\u001b[39;49m\u001b[43mregister\u001b[49m\n\u001b[1;32m---> 11\u001b[0m \u001b[43m\u001b[49m\u001b[38;5;28;43;01mdef\u001b[39;49;00m\u001b[43m \u001b[49m\u001b[38;5;21;43m_\u001b[39;49m\u001b[43m(\u001b[49m\u001b[38;5;28;43mself\u001b[39;49m\u001b[43m,\u001b[49m\u001b[43m \u001b[49m\u001b[43margs\u001b[49m\u001b[43m:\u001b[49m\u001b[43mList\u001b[49m\u001b[43m[\u001b[49m\u001b[38;5;28;43mint\u001b[39;49m\u001b[43m]\u001b[49m\u001b[43m)\u001b[49m\u001b[38;5;241;43m-\u001b[39;49m\u001b[38;5;241;43m>\u001b[39;49m\u001b[38;5;28;43mint\u001b[39;49m\u001b[43m:\u001b[49m\n\u001b[0;32m     12\u001b[0m \u001b[43m    \u001b[49m\u001b[38;5;28;43;01mreturn\u001b[39;49;00m\u001b[43m \u001b[49m\u001b[43mmath\u001b[49m\u001b[38;5;241;43m.\u001b[39;49m\u001b[43mprod\u001b[49m\u001b[43m(\u001b[49m\u001b[43margs\u001b[49m\u001b[43m)\u001b[49m\n\u001b[0;32m     14\u001b[0m \u001b[38;5;129m@prod_n\u001b[39m\u001b[38;5;241m.\u001b[39mregister\n\u001b[0;32m     15\u001b[0m \u001b[38;5;28;01mdef\u001b[39;00m \u001b[38;5;21m_\u001b[39m(\u001b[38;5;28mself\u001b[39m, args:Set[\u001b[38;5;28mint\u001b[39m])\u001b[38;5;241m-\u001b[39m\u001b[38;5;241m>\u001b[39m\u001b[38;5;28mint\u001b[39m:\n",
      "File \u001b[1;32mC:\\Program Files\\Python3.10.2\\lib\\functools.py:921\u001b[0m, in \u001b[0;36msingledispatchmethod.register\u001b[1;34m(self, cls, method)\u001b[0m\n\u001b[0;32m    916\u001b[0m \u001b[38;5;28;01mdef\u001b[39;00m \u001b[38;5;21mregister\u001b[39m(\u001b[38;5;28mself\u001b[39m, \u001b[38;5;28mcls\u001b[39m, method\u001b[38;5;241m=\u001b[39m\u001b[38;5;28;01mNone\u001b[39;00m):\n\u001b[0;32m    917\u001b[0m     \u001b[38;5;124;03m\"\"\"generic_method.register(cls, func) -> func\u001b[39;00m\n\u001b[0;32m    918\u001b[0m \n\u001b[0;32m    919\u001b[0m \u001b[38;5;124;03m    Registers a new implementation for the given *cls* on a *generic_method*.\u001b[39;00m\n\u001b[0;32m    920\u001b[0m \u001b[38;5;124;03m    \"\"\"\u001b[39;00m\n\u001b[1;32m--> 921\u001b[0m     \u001b[38;5;28;01mreturn\u001b[39;00m \u001b[38;5;28;43mself\u001b[39;49m\u001b[38;5;241;43m.\u001b[39;49m\u001b[43mdispatcher\u001b[49m\u001b[38;5;241;43m.\u001b[39;49m\u001b[43mregister\u001b[49m\u001b[43m(\u001b[49m\u001b[38;5;28;43mcls\u001b[39;49m\u001b[43m,\u001b[49m\u001b[43m \u001b[49m\u001b[43mfunc\u001b[49m\u001b[38;5;241;43m=\u001b[39;49m\u001b[43mmethod\u001b[49m\u001b[43m)\u001b[49m\n",
      "File \u001b[1;32mC:\\Program Files\\Python3.10.2\\lib\\functools.py:873\u001b[0m, in \u001b[0;36msingledispatch.<locals>.register\u001b[1;34m(cls, func)\u001b[0m\n\u001b[0;32m    871\u001b[0m     argname, \u001b[38;5;28mcls\u001b[39m \u001b[38;5;241m=\u001b[39m \u001b[38;5;28mnext\u001b[39m(\u001b[38;5;28miter\u001b[39m(get_type_hints(func)\u001b[38;5;241m.\u001b[39mitems()))\n\u001b[0;32m    872\u001b[0m     \u001b[38;5;28;01mif\u001b[39;00m \u001b[38;5;129;01mnot\u001b[39;00m _is_valid_dispatch_type(\u001b[38;5;28mcls\u001b[39m):\n\u001b[1;32m--> 873\u001b[0m         \u001b[38;5;28;01mraise\u001b[39;00m \u001b[38;5;167;01mTypeError\u001b[39;00m(\n\u001b[0;32m    874\u001b[0m             \u001b[38;5;124mf\u001b[39m\u001b[38;5;124m\"\u001b[39m\u001b[38;5;124mInvalid annotation for \u001b[39m\u001b[38;5;132;01m{\u001b[39;00margname\u001b[38;5;132;01m!r}\u001b[39;00m\u001b[38;5;124m. \u001b[39m\u001b[38;5;124m\"\u001b[39m\n\u001b[0;32m    875\u001b[0m             \u001b[38;5;124mf\u001b[39m\u001b[38;5;124m\"\u001b[39m\u001b[38;5;132;01m{\u001b[39;00m\u001b[38;5;28mcls\u001b[39m\u001b[38;5;132;01m!r}\u001b[39;00m\u001b[38;5;124m is not a class.\u001b[39m\u001b[38;5;124m\"\u001b[39m\n\u001b[0;32m    876\u001b[0m         )\n\u001b[0;32m    878\u001b[0m registry[\u001b[38;5;28mcls\u001b[39m] \u001b[38;5;241m=\u001b[39m func\n\u001b[0;32m    879\u001b[0m \u001b[38;5;28;01mif\u001b[39;00m cache_token \u001b[38;5;129;01mis\u001b[39;00m \u001b[38;5;28;01mNone\u001b[39;00m \u001b[38;5;129;01mand\u001b[39;00m \u001b[38;5;28mhasattr\u001b[39m(\u001b[38;5;28mcls\u001b[39m, \u001b[38;5;124m'\u001b[39m\u001b[38;5;124m__abstractmethods__\u001b[39m\u001b[38;5;124m'\u001b[39m):\n",
      "\u001b[1;31mTypeError\u001b[0m: Invalid annotation for 'args'. typing.List[int] is not a class."
     ]
    }
   ],
   "source": [
    "from functools import singledispatchmethod\n",
    "import math\n",
    "from typing import List, Set\n",
    "\n",
    "class Product:\n",
    "    @singledispatchmethod\n",
    "    def prod_n(self, args):\n",
    "        raise NotImplementedError(f'cannot multiply {args}')\n",
    "    \n",
    "    @prod_n.register\n",
    "    def _(self, args:List[int])->int:\n",
    "        return math.prod(args)\n",
    "    \n",
    "    @prod_n.register\n",
    "    def _(self, args:Set[int])->int:\n",
    "        return math.prod(args)\n",
    "    \n",
    "    product = Product()\n",
    "    #print(product.prod_n([1,2,3,4,5]))\n",
    "    #print(product.prod_n({6,7,8,9,10}))"
   ]
  },
  {
   "cell_type": "markdown",
   "id": "9808a6ed",
   "metadata": {},
   "source": [
    "The prod method of the Product class is overloaded to return the product of the elements of a list or a set but if supplied with a different type it, by default, raises a NotImplementedError."
   ]
  },
  {
   "cell_type": "markdown",
   "id": "d95d30d1",
   "metadata": {},
   "source": [
    "## 7. cached_property()\n",
    "As the name suggests the cached_property() is a decorator that transforms a class method into a property whose value is calculated only once and then cached as a normal attribute for the life of the instance. It is similar to @property except the for its caching functionality. It is useful for computationally expensive properties of instances that are otherwise effectively permanent."
   ]
  },
  {
   "cell_type": "code",
   "execution_count": 5,
   "id": "a43f2e3b",
   "metadata": {},
   "outputs": [
    {
     "name": "stdout",
     "output_type": "stream",
     "text": [
      "18.708286933869708\n",
      "350\n"
     ]
    }
   ],
   "source": [
    "from functools import cached_property\n",
    "import statistics\n",
    "\n",
    "class DataSet:\n",
    "    def __init__(self, sequence_of_numbers):\n",
    "        self._data = sequence_of_numbers\n",
    "        \n",
    "    @cached_property\n",
    "    def stdev(self):\n",
    "        return statistics.stdev(self._data)\n",
    "    \n",
    "    @cached_property\n",
    "    def variance(self):\n",
    "        return statistics.variance(self._data)\n",
    "observations = DataSet([50,60,70,80,90,100])\n",
    "print(observations.stdev)\n",
    "print(observations.variance)"
   ]
  },
  {
   "cell_type": "markdown",
   "id": "7eba200b",
   "metadata": {},
   "source": [
    "In the example above, we have a DataSet class that holds a list of observations and implements methods to calculate the variance and standard deviation. The problem is that every time the methods are called the variance and standard deviations would have to be re-calculated and this might prove to be expensive especially for large datasets. @cached_property mitigates this problem by calculating and storing the value only once and returns it if the method is called again by the same instance."
   ]
  },
  {
   "cell_type": "markdown",
   "id": "267ba963",
   "metadata": {},
   "source": [
    "## 8. total_ordering()\n",
    "Given a class defining one or more rich comparison ordering methods i.e., __lt__(), __le__(), __gt__(), __ge__() or __eq__() (corresponding to <, <=, >, >=, and ==). You can define a few of the comparison methods, and @total_ordering will automatically supply the rest as per the given definitions. It is important that the class should supply an __eq__() method.\n",
    "\n",
    "For example, if you want to create a class that compares different numbers. You would probably need to implement all of the rich comparison methods.However, this might be quite tedious and redundant, to solve this you can only implement the __eq__ and the __gt__ method and use @total_ordering to automatically fill up the rest."
   ]
  },
  {
   "cell_type": "code",
   "execution_count": 3,
   "id": "9370eb88",
   "metadata": {},
   "outputs": [
    {
     "name": "stdout",
     "output_type": "stream",
     "text": [
      "False\n",
      "True\n"
     ]
    }
   ],
   "source": [
    "from functools import total_ordering\n",
    "\n",
    "@total_ordering\n",
    "class CompareNum:\n",
    "    def __init__(self, value):\n",
    "        self.value = value\n",
    "        \n",
    "    def __eq__(self, new_value):\n",
    "        return self.value == new_value.value\n",
    "    \n",
    "    def __gt__(self, new_value):\n",
    "        return self.value > new_value.value\n",
    "    \n",
    "print(CompareNum(4) > CompareNum(9))\n",
    "print(CompareNum(4) < CompareNum(9))\n",
    "    "
   ]
  },
  {
   "cell_type": "markdown",
   "id": "8167d5db",
   "metadata": {},
   "source": [
    "## 9. update_wrapper()\n",
    "It updates the metadata of a wrapper function to look like the wrapped function. For example, in the case of partial functions, update_wrapper(partial, parent) will update the documentation(__doc__) and name(__name__) of the partial function to match that of the parent function."
   ]
  },
  {
   "cell_type": "code",
   "execution_count": 20,
   "id": "dc524777",
   "metadata": {},
   "outputs": [
    {
     "name": "stdout",
     "output_type": "stream",
     "text": [
      "8\n",
      "9\n",
      "9\n",
      "partial(func, *args, **keywords) - new function with partial application\n",
      "    of the given arguments and keywords.\n",
      "\n"
     ]
    },
    {
     "ename": "AttributeError",
     "evalue": "'functools.partial' object has no attribute '__name__'",
     "output_type": "error",
     "traceback": [
      "\u001b[1;31m---------------------------------------------------------------------------\u001b[0m",
      "\u001b[1;31mAttributeError\u001b[0m                            Traceback (most recent call last)",
      "Cell \u001b[1;32mIn [20], line 13\u001b[0m\n\u001b[0;32m     11\u001b[0m \u001b[38;5;28mprint\u001b[39m(power2(\u001b[38;5;241m3\u001b[39m))\n\u001b[0;32m     12\u001b[0m \u001b[38;5;28mprint\u001b[39m(power2\u001b[38;5;241m.\u001b[39m\u001b[38;5;18m__doc__\u001b[39m)\n\u001b[1;32m---> 13\u001b[0m \u001b[38;5;28mprint\u001b[39m(\u001b[43mpower2\u001b[49m\u001b[38;5;241;43m.\u001b[39;49m\u001b[38;5;18;43m__name__\u001b[39;49m)\n",
      "\u001b[1;31mAttributeError\u001b[0m: 'functools.partial' object has no attribute '__name__'"
     ]
    }
   ],
   "source": [
    "from functools import update_wrapper, partial\n",
    "\n",
    "## parent function\n",
    "def power(a, b):\n",
    "    ''' a to the power b '''\n",
    "    return a ** b\n",
    "print(power(2,3))\n",
    "print(power(3,2))\n",
    "\n",
    "power2 = partial(power, b=2)\n",
    "print(power2(3))\n",
    "print(power2.__doc__)\n",
    "print(power2.__name__)"
   ]
  },
  {
   "cell_type": "code",
   "execution_count": 21,
   "id": "45067662",
   "metadata": {},
   "outputs": [
    {
     "name": "stdout",
     "output_type": "stream",
     "text": [
      " a to the power b \n",
      "power\n"
     ]
    }
   ],
   "source": [
    "update_wrapper(power2, power)\n",
    "print(power2.__doc__)\n",
    "print(power2.__name__)"
   ]
  },
  {
   "cell_type": "markdown",
   "id": "12e3fedd",
   "metadata": {},
   "source": [
    "## 10. wraps()\n",
    "It is a convenience function for invoking update_wrapper() to the decorated function. It is equivalent to running partial(update_wrapper, wrapped=wrapped, assigned=assigned, updated=updated)."
   ]
  },
  {
   "cell_type": "code",
   "execution_count": 2,
   "id": "2fdac561",
   "metadata": {},
   "outputs": [
    {
     "name": "stdout",
     "output_type": "stream",
     "text": [
      "Calling decorated function\n",
      "calling example function...\n"
     ]
    }
   ],
   "source": [
    "from functools import wraps\n",
    "\n",
    "def my_decorator(f):\n",
    "    @wraps(f)\n",
    "    def wrapper(*args, **kwds):\n",
    "        print(\"Calling decorated function\")\n",
    "        return f(*args, **kwds)\n",
    "    return wrapper\n",
    "\n",
    "@my_decorator\n",
    "def example():\n",
    "    print(\"calling example function...\")\n",
    "    \n",
    "example()"
   ]
  },
  {
   "cell_type": "markdown",
   "id": "79458426",
   "metadata": {},
   "source": [
    "## 11. cmp_to_key()\n",
    "It transforms an old-style comparison function to a key function. A comparison function is any callable that accepts two arguments, compares them, and returns a negative number for less-than, zero for equality, or a positive number for greater-than. Whereas a key function is a callable that accepts one argument and returns another value to be used as the sort key, an example is the operator.itemgetter() key function. Key functions are used in tools such as sorted(), min(), max() and itertools.groupby().\n",
    "\n",
    "cmp_to_key() is majorly used as a transition tool for programs written in Python 2 that support comparison functions.\n",
    "\n",
    "Let’s take an example of how we can use a comparison function to sort a list of strings according to the first letter to illustrate the use of cmp_to_key()"
   ]
  },
  {
   "cell_type": "code",
   "execution_count": 3,
   "id": "40a677c8",
   "metadata": {},
   "outputs": [
    {
     "name": "stdout",
     "output_type": "stream",
     "text": [
      "['Alex', 'Berry', 'David', 'Larry']\n"
     ]
    }
   ],
   "source": [
    "from functools import cmp_to_key\n",
    "\n",
    "## first we define a comparasion function\n",
    "def comparison(a, b):\n",
    "    if a[0] < b[0]:\n",
    "        return -1\n",
    "    elif a[0] == b[0]:\n",
    "        return 0\n",
    "    else:\n",
    "        return 1\n",
    "    \n",
    "name = [\"Larry\", \"Alex\", \"Berry\", \"David\"]\n",
    "sorted_name = sorted(name, key=cmp_to_key(comparison))\n",
    "print(sorted_name)"
   ]
  },
  {
   "cell_type": "code",
   "execution_count": null,
   "id": "c25786f0",
   "metadata": {},
   "outputs": [],
   "source": []
  }
 ],
 "metadata": {
  "kernelspec": {
   "display_name": "Python 3 (ipykernel)",
   "language": "python",
   "name": "python3"
  },
  "language_info": {
   "codemirror_mode": {
    "name": "ipython",
    "version": 3
   },
   "file_extension": ".py",
   "mimetype": "text/x-python",
   "name": "python",
   "nbconvert_exporter": "python",
   "pygments_lexer": "ipython3",
   "version": "3.10.2"
  }
 },
 "nbformat": 4,
 "nbformat_minor": 5
}
